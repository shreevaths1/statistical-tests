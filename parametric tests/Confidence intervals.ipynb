{
 "cells": [
  {
   "cell_type": "markdown",
   "id": "479c34e2-0478-4574-85a3-2a22611ed36b",
   "metadata": {},
   "source": [
    "### Confidence intervals"
   ]
  },
  {
   "cell_type": "markdown",
   "id": "2be01def-ca0f-4f55-a69a-dde2379108f4",
   "metadata": {},
   "source": [
    "### for single population mean"
   ]
  },
  {
   "cell_type": "code",
   "execution_count": 1,
   "id": "eff70b91-7a66-481a-9878-eaf0ea201109",
   "metadata": {},
   "outputs": [],
   "source": [
    "import numpy as np\n",
    "from scipy import stats"
   ]
  },
  {
   "cell_type": "markdown",
   "id": "71d8ccf1-622f-4cd4-ac06-014ed30acdd9",
   "metadata": {},
   "source": [
    "#### using t-distribution"
   ]
  },
  {
   "cell_type": "code",
   "execution_count": 30,
   "id": "35324e0f-100f-42a1-a23e-dc2199672d34",
   "metadata": {},
   "outputs": [
    {
     "name": "stdout",
     "output_type": "stream",
     "text": [
      "sample_mean=3.9\n",
      "sample_std=2.364318083507378\n",
      "Confidence Interval: (2.7647191216978007, 5.035280878302199)\n"
     ]
    }
   ],
   "source": [
    "# manual calculation\n",
    "gfg_data = [1, 1, 1, 2, 2, 2, 3, 3, 3, 3, 3, 4, 4, 5, 5, 5, 6, 7, 8, 10] \n",
    "sample_mean = np.mean(gfg_data)\n",
    "sample_std = np.std(gfg_data)\n",
    "\n",
    "print(f'{sample_mean=}')\n",
    "print(f'{sample_std=}')\n",
    "\n",
    "n = len(gfg_data)\n",
    "df = n - 1\n",
    "\n",
    "confidence_level = 0.95 \n",
    "alpha = 1 - confidence_level\n",
    "\n",
    "t_critical = stats.t.ppf(1 - alpha / 2,df)\n",
    "# margin_of_error = z_critical * (sample_std / np.sqrt(n))\n",
    "margin_of_error = t_critical * (stats.sem(gfg_data))\n",
    "lower_bound = sample_mean - margin_of_error\n",
    "upper_bound = sample_mean + margin_of_error\n",
    "\n",
    "print(f\"Confidence Interval: ({lower_bound}, {upper_bound})\")"
   ]
  },
  {
   "cell_type": "code",
   "execution_count": 31,
   "id": "389f5d06-9fea-4eaa-aca8-91adcfd310bc",
   "metadata": {},
   "outputs": [
    {
     "data": {
      "text/plain": [
       "(2.7647191216978007, 5.035280878302199)"
      ]
     },
     "execution_count": 31,
     "metadata": {},
     "output_type": "execute_result"
    }
   ],
   "source": [
    "# using library\n",
    "stats.t.interval(\n",
    "    confidence_level, \n",
    "    df, \n",
    "    loc=sample_mean, \n",
    "    scale=stats.sem(gfg_data)\n",
    "    )"
   ]
  },
  {
   "cell_type": "markdown",
   "id": "76984037-332a-4b0f-b105-d3dac5cd797e",
   "metadata": {},
   "source": [
    "#### using z-distribution"
   ]
  },
  {
   "cell_type": "code",
   "execution_count": 32,
   "id": "fae1774e-486a-4d76-aa3d-1ef49412521d",
   "metadata": {},
   "outputs": [
    {
     "data": {
      "text/plain": [
       "(2.836892469475994, 4.963107530524006)"
      ]
     },
     "execution_count": 32,
     "metadata": {},
     "output_type": "execute_result"
    }
   ],
   "source": [
    "# using library\n",
    "gfg_data = [1, 1, 1, 2, 2, 2, 3, 3, 3, 3, 3, 4, 4, 5, 5, 5, 6, 7, 8, 10] \n",
    "stats.norm.interval( loc=np.mean(gfg_data), \n",
    "                 scale=stats.sem(gfg_data),\n",
    "                   confidence=0.95) "
   ]
  },
  {
   "cell_type": "code",
   "execution_count": 33,
   "id": "9bc73a7c-e838-425a-a11a-d0d4a16fde43",
   "metadata": {},
   "outputs": [
    {
     "name": "stdout",
     "output_type": "stream",
     "text": [
      "sample_mean=3.9\n",
      "sample_std=2.364318083507378\n",
      "Confidence Interval: (2.836892469475994, 4.963107530524006)\n"
     ]
    }
   ],
   "source": [
    "# manual calculation\n",
    "sample_mean = np.mean(gfg_data)\n",
    "sample_std = np.std(gfg_data)\n",
    "\n",
    "print(f'{sample_mean=}')\n",
    "print(f'{sample_std=}')\n",
    "\n",
    "n = len(gfg_data)\n",
    "df = n - 1\n",
    "\n",
    "confidence_level = 0.95 \n",
    "alpha = 1 - confidence_level\n",
    "\n",
    "z_critical = stats.norm.ppf(1 - alpha / 2)\n",
    "# margin_of_error = z_critical * (sample_std / np.sqrt(n))\n",
    "margin_of_error = z_critical * (stats.sem(gfg_data))\n",
    "lower_bound = sample_mean - margin_of_error\n",
    "upper_bound = sample_mean + margin_of_error\n",
    "\n",
    "print(f\"Confidence Interval: ({lower_bound}, {upper_bound})\")\n"
   ]
  },
  {
   "cell_type": "markdown",
   "id": "d7987aae-0e1c-44d7-b84e-7676a3fa102b",
   "metadata": {},
   "source": [
    "### for two population means\n",
    "#### using z-distribution"
   ]
  },
  {
   "cell_type": "code",
   "execution_count": 34,
   "id": "f9d79b10-2257-46be-9c22-43c67bdaa0bd",
   "metadata": {},
   "outputs": [
    {
     "name": "stdout",
     "output_type": "stream",
     "text": [
      "sample_mean1=3.9\n",
      "sample_mean2=5.55\n",
      "sample_std1=2.364318083507378\n",
      "sample_std2=2.2907422377910613\n",
      "Confidence Interval: (-3.1302526450304384, -0.1697473549695614)\n"
     ]
    }
   ],
   "source": [
    "# manual calculation\n",
    "gfg_data1 = [1, 1, 1, 2, 2, 2, 3, 3, 3, 3, 3, 4, 4, 5, 5, 5, 6, 7, 8, 10] \n",
    "gfg_data2 = [1, 2, 3, 5,6, 6, 3, 7, 7, 7, 7, 4, 4, 5, 5, 5, 9, 6, 9, 10] \n",
    "sample_mean1 = np.mean(gfg_data1)\n",
    "sample_mean2 = np.mean(gfg_data2)\n",
    "\n",
    "sample_std1 = np.std(gfg_data1)\n",
    "sample_std2 = np.std(gfg_data2)\n",
    "\n",
    "print(f'{sample_mean1=}')\n",
    "print(f'{sample_mean2=}')\n",
    "print(f'{sample_std1=}')\n",
    "print(f'{sample_std2=}')\n",
    "\n",
    "n1 = len(gfg_data1)\n",
    "n2 = len(gfg_data1)\n",
    "df = n1 + n2 - 2\n",
    "\n",
    "confidence_level = 0.95 \n",
    "alpha = 1 - confidence_level\n",
    "\n",
    "se1 = stats.sem(gfg_data1)\n",
    "se2 = stats.sem(gfg_data2)\n",
    "sed = np.sqrt(se1**2 + se2**2)\n",
    "\n",
    "meand = sample_mean1 - sample_mean2\n",
    "\n",
    "z_critical = stats.norm.ppf(1 - alpha / 2)\n",
    "# margin_of_error = z_critical * (sample_std / np.sqrt(n))\n",
    "margin_of_error = z_critical * (sed)\n",
    "lower_bound = meand - margin_of_error\n",
    "upper_bound = meand + margin_of_error\n",
    "\n",
    "print(f\"Confidence Interval: ({lower_bound}, {upper_bound})\")\n"
   ]
  },
  {
   "cell_type": "code",
   "execution_count": 35,
   "id": "918a2f66-a379-4374-bb44-718a48474d19",
   "metadata": {},
   "outputs": [
    {
     "data": {
      "text/plain": [
       "(-3.1302526450304384, -0.1697473549695614)"
      ]
     },
     "execution_count": 35,
     "metadata": {},
     "output_type": "execute_result"
    }
   ],
   "source": [
    "stats.norm.interval( loc=meand, \n",
    "                 scale=sed,\n",
    "                   confidence=0.95) "
   ]
  },
  {
   "cell_type": "markdown",
   "id": "7c1ccab6-7064-4915-9ab3-e758eace4991",
   "metadata": {},
   "source": [
    "#### using t-distribution\n",
    "\n",
    "for equal variances"
   ]
  },
  {
   "cell_type": "code",
   "execution_count": 38,
   "id": "402a52b4-01f8-450a-bfde-aeb5a2261ef8",
   "metadata": {},
   "outputs": [
    {
     "name": "stdout",
     "output_type": "stream",
     "text": [
      "95 % confidence interval :  [-3.1789 -0.1211]\n"
     ]
    }
   ],
   "source": [
    "res = stats.ttest_ind(gfg_data1,gfg_data2,equal_var=True,alternative='two-sided')\n",
    "ci=res.confidence_interval(confidence_level=0.95)\n",
    "print(\"95 % confidence interval : \",np.round(ci,4))"
   ]
  },
  {
   "cell_type": "code",
   "execution_count": 53,
   "id": "6e52b270-d39f-4363-990d-341ec8295e18",
   "metadata": {},
   "outputs": [
    {
     "name": "stdout",
     "output_type": "stream",
     "text": [
      "sample_mean1=3.9\n",
      "sample_mean2=5.55\n",
      "sample_std1=2.364318083507378\n",
      "sample_std2=2.2907422377910613\n",
      "Confidence Interval: (-3.140200257725787, -0.15979974227421279)\n"
     ]
    }
   ],
   "source": [
    "# manual calculation\n",
    "gfg_data1 = [1, 1, 1, 2, 2, 2, 3, 3, 3, 3, 3, 4, 4, 5, 5, 5, 6, 7, 8, 10] \n",
    "gfg_data2 = [1, 2, 3, 5,6, 6, 3, 7, 7, 7, 7, 4, 4, 5, 5, 5, 9, 6, 9, 10] \n",
    "sample_mean1 = np.mean(gfg_data1)\n",
    "sample_mean2 = np.mean(gfg_data2)\n",
    "\n",
    "sample_std1 = np.std(gfg_data1)\n",
    "sample_std2 = np.std(gfg_data2)\n",
    "\n",
    "print(f'{sample_mean1=}')\n",
    "print(f'{sample_mean2=}')\n",
    "print(f'{sample_std1=}')\n",
    "print(f'{sample_std2=}')\n",
    "\n",
    "n1 = len(gfg_data1)\n",
    "n2 = len(gfg_data1)\n",
    "df = n1 + n2 - 2\n",
    "\n",
    "confidence_level = 0.95 \n",
    "alpha = 1 - confidence_level\n",
    "\n",
    "s1 = np.std(gfg_data1)\n",
    "s2 = np.std(gfg_data2)\n",
    "s_sqr = ((s1**2 * (n1-1)) + (s2**2 * (n2-1)))/df\n",
    "sed = np.sqrt(s_sqr * ( (1/n1) + (1/n2) ))\n",
    "\n",
    "meand = sample_mean1 - sample_mean2\n",
    "\n",
    "t_critical = stats.t.ppf(1 - alpha / 2,df)\n",
    "margin_of_error = t_critical * (sed)\n",
    "lower_bound = meand - margin_of_error\n",
    "upper_bound = meand + margin_of_error\n",
    "\n",
    "print(f\"Confidence Interval: ({lower_bound}, {upper_bound})\")\n"
   ]
  },
  {
   "cell_type": "code",
   "execution_count": 54,
   "id": "f1a2bc2c-a2c5-4a8a-9324-ab6328dfa3f4",
   "metadata": {},
   "outputs": [
    {
     "data": {
      "text/plain": [
       "array([-3.14, -0.16])"
      ]
     },
     "execution_count": 54,
     "metadata": {},
     "output_type": "execute_result"
    }
   ],
   "source": [
    "# using library\n",
    "ci =stats.t.interval(\n",
    "    confidence_level, \n",
    "    df, \n",
    "    loc=meand, \n",
    "    scale=sed\n",
    "    )\n",
    "np.round(ci,2)"
   ]
  },
  {
   "cell_type": "markdown",
   "id": "6afbc869-8b71-4076-9396-e29db9b1cd26",
   "metadata": {},
   "source": [
    "---\n",
    "for unequal variances"
   ]
  },
  {
   "cell_type": "code",
   "execution_count": 47,
   "id": "1dea4732-0deb-4211-bd66-61143d418014",
   "metadata": {},
   "outputs": [
    {
     "name": "stdout",
     "output_type": "stream",
     "text": [
      "sample_mean1=3.9\n",
      "sample_mean2=5.55\n",
      "sample_std1=2.364318083507378\n",
      "sample_std2=2.2907422377910613\n",
      "Confidence Interval: (-3.19, -0.11)\n"
     ]
    }
   ],
   "source": [
    "# manual calculation\n",
    "gfg_data1 = [1, 1, 1, 2, 2, 2, 3, 3, 3, 3, 3, 4, 4, 5, 5, 5, 6, 7, 8, 10] \n",
    "gfg_data2 = [1, 2, 3, 5,6, 6, 3, 7, 7, 7, 7, 4, 4, 5, 5, 5, 9, 6, 9, 10] \n",
    "sample_mean1 = np.mean(gfg_data1)\n",
    "sample_mean2 = np.mean(gfg_data2)\n",
    "\n",
    "sample_std1 = np.std(gfg_data1)\n",
    "sample_std2 = np.std(gfg_data2)\n",
    "\n",
    "print(f'{sample_mean1=}')\n",
    "print(f'{sample_mean2=}')\n",
    "print(f'{sample_std1=}')\n",
    "print(f'{sample_std2=}')\n",
    "\n",
    "n1 = len(gfg_data1)\n",
    "n2 = len(gfg_data1)\n",
    "df = n1 + n2 - 2\n",
    "\n",
    "confidence_level = 0.95 \n",
    "alpha = 1 - confidence_level\n",
    "\n",
    "s1 = np.std(gfg_data1)\n",
    "s2 = np.std(gfg_data2)\n",
    "\n",
    "se1 = stats.sem(gfg_data1)\n",
    "se2 = stats.sem(gfg_data2)\n",
    "# sed = np.sqrt(se1**2 + se2**2)\n",
    "sed = np.sqrt(s1**2 / n1 + s2**2 / n2)\n",
    "\n",
    "w1 = (s1**2)/n1\n",
    "w2 = (s2**2)/n2\n",
    "\n",
    "t1 = stats.t.ppf(1-alpha/2,n1-1)\n",
    "t2 = stats.t.ppf(1-alpha/2,n2-1)\n",
    "\n",
    "meand = sample_mean1 - sample_mean2\n",
    "\n",
    "t_critical = ( (w1*t1) + (w2*t2) )/(w1+w2)\n",
    "margin_of_error = t_critical * (sed)\n",
    "lower_bound = meand - margin_of_error\n",
    "upper_bound = meand + margin_of_error\n",
    "\n",
    "print(f\"Confidence Interval: ({np.round(lower_bound,2)}, {np.round(upper_bound,2)})\")\n"
   ]
  },
  {
   "cell_type": "code",
   "execution_count": 50,
   "id": "203b4107-b119-4af7-b016-d345f5e40c92",
   "metadata": {},
   "outputs": [
    {
     "name": "stdout",
     "output_type": "stream",
     "text": [
      "95 % confidence interval :  [-3.18 -0.12]\n"
     ]
    }
   ],
   "source": [
    "res = stats.ttest_ind(gfg_data1,gfg_data2,equal_var=False,alternative='two-sided')\n",
    "ci=res.confidence_interval(confidence_level=0.95)\n",
    "print(\"95 % confidence interval : \",np.round(ci,2))"
   ]
  },
  {
   "cell_type": "markdown",
   "id": "ba297e7a-5d09-44de-aec8-4dd26e66f879",
   "metadata": {},
   "source": [
    "### for single population proportion"
   ]
  },
  {
   "cell_type": "code",
   "execution_count": 58,
   "id": "f60efd4d-2169-475d-a8a3-f6e586991354",
   "metadata": {},
   "outputs": [],
   "source": [
    "from statsmodels.stats.proportion import proportion_confint"
   ]
  },
  {
   "cell_type": "code",
   "execution_count": 60,
   "id": "1d548dc1-284b-41ab-ac9d-e5653986a791",
   "metadata": {},
   "outputs": [
    {
     "data": {
      "text/plain": [
       "array([0.3068, 0.3835])"
      ]
     },
     "execution_count": 60,
     "metadata": {},
     "output_type": "execute_result"
    }
   ],
   "source": [
    "ci=proportion_confint(count=204,nobs=591,alpha=0.05,method='normal')\n",
    "np.round(ci,4)"
   ]
  },
  {
   "cell_type": "markdown",
   "id": "303e0a9c-20c2-4dd0-8543-0e1259a3e059",
   "metadata": {},
   "source": [
    "### for two population proportions"
   ]
  },
  {
   "cell_type": "code",
   "execution_count": 62,
   "id": "5571c017-08d9-4714-907b-d9466238d471",
   "metadata": {},
   "outputs": [],
   "source": [
    "from statsmodels.stats.proportion import confint_proportions_2indep"
   ]
  },
  {
   "cell_type": "code",
   "execution_count": 75,
   "id": "d05b2c6f-297f-425a-b85b-3a4e2b443d03",
   "metadata": {},
   "outputs": [
    {
     "data": {
      "text/plain": [
       "array([0.1397, 0.4485])"
      ]
     },
     "execution_count": 75,
     "metadata": {},
     "output_type": "execute_result"
    }
   ],
   "source": [
    "ci=confint_proportions_2indep(count1=60,nobs1=123,count2=18,nobs2=96,compare='diff',method='agresti-caffo',alpha=0.01,correction=True)\n",
    "np.round(ci,4)"
   ]
  },
  {
   "cell_type": "markdown",
   "id": "508228f4-836b-4f2c-8b90-f66c8d869765",
   "metadata": {},
   "source": [
    "### for single population variance"
   ]
  },
  {
   "cell_type": "code",
   "execution_count": 18,
   "id": "53e32520-39fb-4ded-9225-fb9525d24ee5",
   "metadata": {},
   "outputs": [
    {
     "name": "stdout",
     "output_type": "stream",
     "text": [
      "The 95.0% confidence interval for the population variance is [0.0771, 0.4427].\n"
     ]
    }
   ],
   "source": [
    "import numpy as np\n",
    "from scipy.stats import chi2\n",
    "\n",
    "# Sample data\n",
    "data = np.array([6.0,6.4,7.0,5.8,6.0,5.8,5.9,6.7,6.1,6.5,6.3,5.8])\n",
    "\n",
    "# Degrees of freedom\n",
    "df = len(data) - 1\n",
    "\n",
    "# Sample variance\n",
    "s2 = np.var(data, ddof=1)\n",
    "\n",
    "# Confidence level\n",
    "alpha = 0.05\n",
    "\n",
    "# Confidence interval\n",
    "crit0 = chi2.ppf(alpha/2,df)\n",
    "crit1 = chi2.ppf(1-alpha/2,df)\n",
    "\n",
    "# Confidence interval for variance\n",
    "ci_var = [(df * s2) / crit1, (df * s2) / crit0]\n",
    "\n",
    "print(f\"The {(1-alpha)*100}% confidence interval for the population variance is [{ci_var[0]:.4f}, {ci_var[1]:.4f}].\")\n"
   ]
  },
  {
   "cell_type": "markdown",
   "id": "edef67f8-db95-47bb-a403-97be79873988",
   "metadata": {},
   "source": [
    "### for ratio of 2 population variances"
   ]
  },
  {
   "cell_type": "code",
   "execution_count": 25,
   "id": "e2c9eb12-be68-492a-84b2-373ffb7bde62",
   "metadata": {},
   "outputs": [
    {
     "name": "stdout",
     "output_type": "stream",
     "text": [
      "The 95.0% confidence interval for the population variance is [0.2018, 14.0427].\n"
     ]
    }
   ],
   "source": [
    "import numpy as np\n",
    "from scipy.stats import f\n",
    "\n",
    "# Sample data\n",
    "#data1 = np.array([6.0,6.4,7.0,5.8,6.0,5.8,5.9,6.7,6.1,6.5,6.3,5.8])\n",
    "#data2 = np.array([6.0,6.4,7.0,5.8,6.0,5.8,5.9,6.7,6.1,6.5,6.3,5.8])\n",
    "\n",
    "# Degrees of freedom\n",
    "df1 = 11-1\n",
    "df2 = 4-1\n",
    "\n",
    "# Sample variance\n",
    "s12 = 33.64\n",
    "s22 = 11.56\n",
    "\n",
    "# Confidence level\n",
    "alpha = 0.05\n",
    "\n",
    "# Confidence interval\n",
    "crit0 = f.ppf(alpha/2,df1,df2)\n",
    "crit1 = f.ppf(1-alpha/2,df1,df2)\n",
    "\n",
    "# Confidence interval for variance\n",
    "ci_var = [(s12 / s22) / crit1, (s12 / s22) / crit0]\n",
    "\n",
    "print(f\"The {(1-alpha)*100}% confidence interval for the population variance is [{ci_var[0]:.4f}, {ci_var[1]:.4f}].\")\n"
   ]
  }
 ],
 "metadata": {
  "kernelspec": {
   "display_name": "Python 3 (ipykernel)",
   "language": "python",
   "name": "python3"
  },
  "language_info": {
   "codemirror_mode": {
    "name": "ipython",
    "version": 3
   },
   "file_extension": ".py",
   "mimetype": "text/x-python",
   "name": "python",
   "nbconvert_exporter": "python",
   "pygments_lexer": "ipython3",
   "version": "3.11.6"
  }
 },
 "nbformat": 4,
 "nbformat_minor": 5
}
