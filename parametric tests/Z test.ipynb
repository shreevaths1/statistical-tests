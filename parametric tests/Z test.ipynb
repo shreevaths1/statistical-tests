{
 "cells": [
  {
   "cell_type": "markdown",
   "id": "17036535-5967-44ea-8dac-dae3020c23be",
   "metadata": {},
   "source": [
    "### Z test for testing one population mean"
   ]
  },
  {
   "cell_type": "markdown",
   "id": "697649cd-328c-41e9-bca7-0969e6f12c3b",
   "metadata": {},
   "source": [
    "Assumptions <br>\n",
    "* Sample is independent simple random sample\n",
    "* sample drawn from normally distributed population\n",
    "* population variance is known\n",
    "* Or in cases of central limit theorem (replace population variance by sample variance if it not known) <br>\n",
    "\n",
    "Suppose the IQ in a certain population is normally distributed with a mean of μ = 100 and standard deviation of σ = 15.\n",
    "\r\n",
    "A researcher wants to know if a new drug affects IQ levels, so he recruits 20 patients to try it and records their IQ level<br>\n",
    "To determine if the new drug causes a significant difference in IQ levels.s."
   ]
  },
  {
   "cell_type": "code",
   "execution_count": 6,
   "id": "0fafc595-9c13-4306-b6f3-a33b238b3dce",
   "metadata": {},
   "outputs": [],
   "source": [
    "from statsmodels.stats.weightstats import ztest\n",
    "import numpy as np"
   ]
  },
  {
   "cell_type": "code",
   "execution_count": 12,
   "id": "e25ec513-ec1a-46b1-8340-be097b8b770b",
   "metadata": {},
   "outputs": [
    {
     "name": "stdout",
     "output_type": "stream",
     "text": [
      "test statistic :  1.5976\n",
      "p-value :  0.0551\n",
      "Fail to reject H0 at 0.05 level of significance and conclude that there is no sufficient evidence to conclude there is\n",
      " significant difference in drug effect.\n"
     ]
    }
   ],
   "source": [
    "data = [88, 92, 94, 94, 96, 97, 97, 97, 99, 99,105, 109, 109, 109, 110, 112, 112, 113, 114, 115]\n",
    "\n",
    "res=ztest(data,value=100,alternative='larger')\n",
    "test_stat = res[0]\n",
    "p_val=res[1]\n",
    "print(\"test statistic : \",np.round(test_stat,4))\n",
    "print(\"p-value : \",np.round(p_val,4))\n",
    "if p_val < 0.05:\n",
    "    print(\"Reject H0 at 0.05 level of significance and conclude that there is significant difference in drug effect.\")\n",
    "else:\n",
    "    print(\"Fail to reject H0 at 0.05 level of significance and conclude that there is no sufficient evidence to conclude there is\\n significant difference in drug effect.\")"
   ]
  },
  {
   "cell_type": "markdown",
   "id": "dc4e4363-daa4-450e-a911-2ce5b427285d",
   "metadata": {},
   "source": [
    "### Z test for testing two population means\n",
    "Assumptions <br>\n",
    "* Samples are independent simple random samples\n",
    "* samples are drawn from 2 normally distributed populations\n",
    "* population variances are known\n",
    "* Or in cases of central limit theorem (replace population variances by sample variances if it not known) <br>\n",
    "\n",
    "Suppose the IQ levels among individuals in two different cities are known to be normally distributed with known standard deviations.\n",
    "\r\n",
    "A researcher wants to know if the mean IQ level between individuals in city A and city B are different, so she selects a simple random sample of  20 individuals from each city and records their IQ level<br>\n",
    "To determine if the mean IQ level is different between the two citiess."
   ]
  },
  {
   "cell_type": "code",
   "execution_count": 14,
   "id": "7b055670-8cd6-4a16-b349-13bd565d8d93",
   "metadata": {},
   "outputs": [
    {
     "name": "stdout",
     "output_type": "stream",
     "text": [
      "test statistic :  -1.9953\n",
      "p-value :  0.046\n",
      "Reject H0 at 0.05 level of significance and conclude that there is significant difference in drug effect b/w 2 cities.\n"
     ]
    }
   ],
   "source": [
    "cityA = [82, 84, 85, 89, 91, 91, 92, 94, 99, 99,\n",
    "         105, 109, 109, 109, 110, 112, 112, 113, 114, 114]\n",
    "\n",
    "cityB = [90, 91, 91, 91, 95, 95, 99, 99, 108, 109,\n",
    "         109, 114, 115, 116, 117, 117, 128, 129, 130, 133]\n",
    "res=ztest(cityA, cityB, value=0,alternative='two-sided') \n",
    "test_stat = res[0]\n",
    "p_val=res[1]\n",
    "print(\"test statistic : \",np.round(test_stat,4))\n",
    "print(\"p-value : \",np.round(p_val,4))\n",
    "if p_val < 0.05:\n",
    "    print(\"Reject H0 at 0.05 level of significance and conclude that there is significant difference in drug effect b/w 2 cities.\")\n",
    "else:\n",
    "    print(\"Fail to reject H0 at 0.05 level of significance and conclude that there is no sufficient evidence to conclude there is\\n significant difference in drug effect b/w two cities\")"
   ]
  },
  {
   "cell_type": "markdown",
   "id": "16d46814-3d2c-4f04-a88e-50dd44776f5d",
   "metadata": {},
   "source": [
    "### Z test for testing one population proportion\n",
    "Assumptions <br>\n",
    "* Sample is independent simple random sample\n",
    "* sample is drawn from normally distributed population\n",
    "* Normally we face cases of central limit theorem ( $np > 5$ and $n(1-p)>5$ ) <br>\n",
    "\n",
    "To test $H_{0} : p = 0.86$  vs $H_{a} : p \\neq 0.86$"
   ]
  },
  {
   "cell_type": "code",
   "execution_count": 16,
   "id": "18ce702b-4242-470d-9f00-a63703f268d8",
   "metadata": {},
   "outputs": [
    {
     "name": "stdout",
     "output_type": "stream",
     "text": [
      "test statistic :  -1.5\n",
      "p-value :  0.1336\n",
      "Fail to reject H0 at 0.05 level of significance and conclude that there is no sufficient evidence to conclude population proportion\n",
      " is significantly different from 0.86\n"
     ]
    }
   ],
   "source": [
    "from statsmodels.stats.proportion import proportions_ztest \n",
    "\n",
    "res=proportions_ztest(count=80, nobs=100, value=0.86,alternative='two-sided') \n",
    "test_stat = res[0]\n",
    "p_val=res[1]\n",
    "print(\"test statistic : \",np.round(test_stat,4))\n",
    "print(\"p-value : \",np.round(p_val,4))\n",
    "if p_val < 0.05:\n",
    "    print(\"Reject H0 at 0.05 level of significance and conclude that population proportion is significantly different from 0.86.\")\n",
    "else:\n",
    "    print(\"Fail to reject H0 at 0.05 level of significance and conclude that there is no sufficient evidence to conclude population proportion\\n is significantly different from 0.86\")"
   ]
  },
  {
   "cell_type": "markdown",
   "id": "7d0bce84-63f3-49fc-9cbd-d5670438b540",
   "metadata": {},
   "source": [
    "### Z test for testing two population proportions\n",
    "Assumptions <br>\n",
    "* Samples are independent simple random samples\n",
    "* samples are drawn from 2 normally distributed populations\n",
    "* Normally we face cases of central limit theorem ( $np > 5$ and $n(1-p)>5$ for each sample) <br>\n",
    "\n",
    "To test $H_{0} : p_{1} - p_{2} = 0$  vs $H_{a} : p_{1} - p_{2} \\neq 0$"
   ]
  },
  {
   "cell_type": "code",
   "execution_count": 21,
   "id": "a83caa4d-dfbf-4619-b735-616994f88c14",
   "metadata": {},
   "outputs": [
    {
     "name": "stdout",
     "output_type": "stream",
     "text": [
      "test statistic :  -1.5\n",
      "p-value :  0.1336\n",
      "Fail to reject H0 at 0.05 level of significance and conclude that there is no sufficient evidence to conclude 2 population proportion are \n",
      "significantly different.\n"
     ]
    }
   ],
   "source": [
    "from statsmodels.stats.proportion import proportions_ztest\n",
    "count = np.array([5, 12])\n",
    "nobs = np.array([83, 99])\n",
    "res = proportions_ztest(count, nobs,value=0,alternative='two-sided')\n",
    "print(\"test statistic : \",np.round(test_stat,4))\n",
    "print(\"p-value : \",np.round(p_val,4))\n",
    "if p_val < 0.05:\n",
    "    print(\"Reject H0 at 0.05 level of significance and conclude that 2 population proportion are significantly different.\")\n",
    "else:\n",
    "    print(\"Fail to reject H0 at 0.05 level of significance and conclude that there is no sufficient evidence to conclude 2 population proportion are \\nsignificantly different.\")"
   ]
  }
 ],
 "metadata": {
  "kernelspec": {
   "display_name": "Python 3 (ipykernel)",
   "language": "python",
   "name": "python3"
  },
  "language_info": {
   "codemirror_mode": {
    "name": "ipython",
    "version": 3
   },
   "file_extension": ".py",
   "mimetype": "text/x-python",
   "name": "python",
   "nbconvert_exporter": "python",
   "pygments_lexer": "ipython3",
   "version": "3.11.6"
  }
 },
 "nbformat": 4,
 "nbformat_minor": 5
}
