{
 "cells": [
  {
   "cell_type": "markdown",
   "id": "3116e586-4d80-4262-97fe-1f9324e92975",
   "metadata": {},
   "source": [
    "### Data Management & Statistical Computing Practical Exercise"
   ]
  },
  {
   "cell_type": "markdown",
   "id": "c4798aa9-64c7-4dc6-a8dd-d5f5ef4925e3",
   "metadata": {},
   "source": [
    "---"
   ]
  },
  {
   "attachments": {
    "c7e1c094-e94b-4382-80d3-7abb558a224b.png": {
     "image/png": "[encoded data removed]"
    }
   },
   "cell_type": "markdown",
   "id": "f46a16fb-76e2-48e4-9b34-3266d44ba5fc",
   "metadata": {},
   "source": [
    "#### Question 1 <br>\n",
    "![image.png](attachment:c7e1c094-e94b-4382-80d3-7abb558a224b.png)"
   ]
  },
  {
   "cell_type": "markdown",
   "id": "28dbc163-33cd-4efe-8aef-0d0bc5d7c540",
   "metadata": {},
   "source": [
    "Assumptions satisfied are :\n",
    "* sample is a simple random sample\n",
    "* drawn from normally distributed population\n",
    "* unknown variance\n",
    "\n",
    "Therefore our test statistic follows t-distribution at $n-1$ degrees of freedom. <br>Test used : one sample t-test"
   ]
  },
  {
   "cell_type": "code",
   "execution_count": 1,
   "id": "5b12a13f-8512-41ed-8f80-f6263c9eefd3",
   "metadata": {},
   "outputs": [],
   "source": [
    "import numpy as np\n",
    "from scipy import stats\n",
    "import pandas as pd"
   ]
  },
  {
   "cell_type": "markdown",
   "id": "7c121959-68a2-4d0f-8eca-501adf7a6e42",
   "metadata": {},
   "source": [
    "#### (a)"
   ]
  },
  {
   "cell_type": "code",
   "execution_count": 2,
   "id": "ab7cf1d3-3f70-4519-a86a-77a10966318a",
   "metadata": {},
   "outputs": [
    {
     "data": {
      "text/plain": [
       "count    10.00\n",
       "mean     42.90\n",
       "std       6.37\n",
       "min      31.00\n",
       "25%      39.50\n",
       "50%      43.50\n",
       "75%      47.50\n",
       "max      52.00\n",
       "dtype: float64"
      ]
     },
     "execution_count": 2,
     "metadata": {},
     "output_type": "execute_result"
    }
   ],
   "source": [
    "sample_1 = np.array([39,41,49,44,31,52,48,46,43,36])\n",
    "res = stats.ttest_1samp(sample_1,popmean=44,alternative='two-sided')\n",
    "sample_1 = pd.Series(sample_1)\n",
    "np.round(sample_1.describe(),2)"
   ]
  },
  {
   "cell_type": "markdown",
   "id": "f26dbf78-a18f-4798-acae-4d3cd13d6266",
   "metadata": {},
   "source": [
    "Summary Stats for one sample t-test\n",
    "||n|Mean|SD|\n",
    "|---|---|---|---|\n",
    "|sample|10|42.90|6.37|"
   ]
  },
  {
   "cell_type": "code",
   "execution_count": 3,
   "id": "6df55869-5d33-42f1-8be9-c0ad5d4880ac",
   "metadata": {},
   "outputs": [
    {
     "name": "stdout",
     "output_type": "stream",
     "text": [
      "test statistic :  -0.5463\n",
      "p-value :  0.5981\n",
      "degrees of freedom :  9\n",
      "90% confidence interval :  [39.21 46.59]\n"
     ]
    }
   ],
   "source": [
    "test_stat = res.statistic\n",
    "p_val = res.pvalue\n",
    "df = res.df\n",
    "ci=res.confidence_interval(confidence_level=0.90)\n",
    "\n",
    "print(\"test statistic : \",np.round(test_stat,4))\n",
    "print(\"p-value : \",np.round(p_val,4))\n",
    "print(\"degrees of freedom : \",df)\n",
    "print(\"90% confidence interval : \",np.round(ci,2))"
   ]
  },
  {
   "cell_type": "markdown",
   "id": "9e9da1df-d2f1-4ba6-8a09-d162a05f7634",
   "metadata": {},
   "source": [
    "#### (b)"
   ]
  },
  {
   "cell_type": "code",
   "execution_count": 4,
   "id": "124509e0-e6a1-4d7c-aa3e-c0a609b0e8cd",
   "metadata": {},
   "outputs": [
    {
     "name": "stdout",
     "output_type": "stream",
     "text": [
      "90 % confidence interval :  [39.2089 46.5911]\n",
      "mean of sample :  42.9\n"
     ]
    }
   ],
   "source": [
    "print(\"90 % confidence interval : \",np.round(ci,4))\n",
    "print(\"mean of sample : \",np.mean(sample_1))"
   ]
  },
  {
   "cell_type": "markdown",
   "id": "fe9cf30f-1bde-4001-ad16-ad3b69522fb8",
   "metadata": {},
   "source": [
    "Since p-value > 0.10, we fail to reject the null hypothesis. There is no sufficient evidence to prove that the population mean is significantly different from 44.\n",
    "\n",
    "#### (c) \n",
    "From (b) the confidence interval includes the hypothesized value of population mean = 44. This implies we do not reject null hypothesis H0, which is what is implied in (a)."
   ]
  },
  {
   "cell_type": "markdown",
   "id": "e7f574d2-8d55-4920-ad50-8534ebb8f375",
   "metadata": {},
   "source": [
    "#### (d)"
   ]
  },
  {
   "cell_type": "code",
   "execution_count": 5,
   "id": "bc4c1f2b-e692-4369-9719-d40bc7aaae18",
   "metadata": {},
   "outputs": [],
   "source": [
    "diff = sample_1 - 44\n",
    "diff = diff[diff!=0]\n",
    "n_pos = np.sum(diff>0)\n",
    "n_neg = np.sum(diff<0)\n",
    "N = n_pos\n",
    "\n",
    "res = stats.binomtest(N,n_pos+n_neg,0.5,alternative='two-sided')"
   ]
  },
  {
   "cell_type": "code",
   "execution_count": 6,
   "id": "ca53c3bd-6471-45fa-96f9-79e24d4387b6",
   "metadata": {},
   "outputs": [
    {
     "name": "stdout",
     "output_type": "stream",
     "text": [
      "test statistic :  0.4444\n",
      "p-value :  1.0\n",
      "90 % confidence interval :  [0.1688 0.7486]\n",
      "median of sample :  43.5\n",
      "BinomTestResult(k=4, n=9, alternative='two-sided', statistic=0.4444444444444444, pvalue=1.0)\n"
     ]
    }
   ],
   "source": [
    "test_stat = res.statistic\n",
    "p_val = res.pvalue\n",
    "ci=res.proportion_ci(confidence_level=0.90)\n",
    "\n",
    "print(\"test statistic : \",np.round(test_stat,4))\n",
    "print(\"p-value : \",np.round(p_val,4))\n",
    "print(\"90 % confidence interval : \",np.round(ci,4))\n",
    "print(\"median of sample : \",np.median(sample_1))\n",
    "print(res)"
   ]
  },
  {
   "cell_type": "markdown",
   "id": "791d90e4-ca96-463b-b286-3a6a41c89a55",
   "metadata": {},
   "source": [
    "p-value under sign test = 0.7539\n",
    "\n",
    "p-value under wilcoxon signed rank test = 0.7218 which is less than that under sign test. <br>\n",
    "* Therefore wilcoxon signed rank test provides stronger evidence in favor of null hypothesis at 0.10 level of significance.\n",
    "* We fail to reject the null hypothesis at 0.10 level of significance.\n",
    "* power of t-test > power of signed rank test > power of sign test, since sign test uses least information."
   ]
  },
  {
   "cell_type": "markdown",
   "id": "073d67e5-92fc-4464-bc1d-3944f22bdf0c",
   "metadata": {},
   "source": [
    "---"
   ]
  },
  {
   "attachments": {
    "9db96c80-fd2d-4d67-b410-ca0baa6db862.png": {
     "image/png": "[encoded data removed]"
    }
   },
   "cell_type": "markdown",
   "id": "16492686-4fd9-4bc9-bccf-377d84c14d33",
   "metadata": {},
   "source": [
    "#### Question 2\n",
    "![image.png](attachment:9db96c80-fd2d-4d67-b410-ca0baa6db862.png)"
   ]
  },
  {
   "cell_type": "markdown",
   "id": "4f37993c-a4a4-4521-b4bc-22489a1c57e6",
   "metadata": {},
   "source": [
    "Assumptions satisfied are :\n",
    "* samples are independent and simple random random samples\n",
    "* drawn from 2 normally distributed populations\n",
    "* unknown but equal variances\n",
    "\n",
    "Therefore our test statistic follows t-distribution at $n_1+n_2-1$ degrees of freedom with pooled estimate of sample variances. <br>Test used : t-test for equal population variances"
   ]
  },
  {
   "cell_type": "markdown",
   "id": "09602f05-2942-4dd5-bced-d1a55672b573",
   "metadata": {},
   "source": [
    "#### (a)"
   ]
  },
  {
   "cell_type": "code",
   "execution_count": 7,
   "id": "f59abde9-5751-42bf-8b2d-7df9c3e1dd4c",
   "metadata": {},
   "outputs": [
    {
     "name": "stdout",
     "output_type": "stream",
     "text": [
      "test statistic :  -3.6737\n",
      "p-value :  0.0013\n",
      "degrees of freedom :  22.0\n",
      "95 % confidence interval :  [-6.9692 -1.9399]\n",
      "mean of sample 1:  12.55 \tmean of sample 2 : 17.0\n",
      "difference in mean values :  -4.45\n"
     ]
    }
   ],
   "source": [
    "x1 = np.array([14,15,11,14,10,8,13,10,12,16,15])\n",
    "x2 = np.array([17,21,16,20,12,18,16,21,13,20,13,20,14])\n",
    "res = stats.ttest_ind(x1,x2,equal_var=True,alternative='two-sided')\n",
    "\n",
    "test_stat = res.statistic\n",
    "p_val = res.pvalue\n",
    "df = res.df\n",
    "ci=res.confidence_interval(confidence_level=0.95)\n",
    "\n",
    "print(\"test statistic : \",np.round(test_stat,4))\n",
    "print(\"p-value : \",np.round(p_val,4))\n",
    "print(\"degrees of freedom : \",df)\n",
    "print(\"95 % confidence interval : \",np.round(ci,4))\n",
    "print(\"mean of sample 1: \",np.round(np.mean(x1),2),\"\\tmean of sample 2 :\",np.round(np.mean(x2),2))\n",
    "print(\"difference in mean values : \",np.round(np.mean(x1)-np.mean(x2),2))"
   ]
  },
  {
   "cell_type": "markdown",
   "id": "5a297c64-28d1-4eb0-82fe-d1654eac9fb7",
   "metadata": {},
   "source": [
    "p-value = 0.001 < 0.05. Therefore we reject the null hypothesis. there is significant difference between between the population means."
   ]
  },
  {
   "cell_type": "markdown",
   "id": "304bd981-2f5a-485a-a9cc-6f2ca89e6731",
   "metadata": {},
   "source": [
    "#### (b)"
   ]
  },
  {
   "cell_type": "code",
   "execution_count": 8,
   "id": "64c76605-9ebe-49b5-ad03-1c47e9df312b",
   "metadata": {},
   "outputs": [
    {
     "name": "stdout",
     "output_type": "stream",
     "text": [
      "test_statistic :  13.4962\n",
      "p-value :  0.0013\n"
     ]
    }
   ],
   "source": [
    "res = stats.f_oneway(x1,x2)\n",
    "\n",
    "test_stat = res.statistic\n",
    "p_val = res.pvalue\n",
    "print(\"test_statistic : \",np.round(test_stat,4))\n",
    "print(\"p-value : \",np.round(p_val,4))"
   ]
  },
  {
   "cell_type": "code",
   "execution_count": 9,
   "id": "b21d65e3-0c12-4305-8fb5-6721afbaf3fb",
   "metadata": {},
   "outputs": [
    {
     "data": {
      "text/plain": [
       "13.49607169"
      ]
     },
     "execution_count": 9,
     "metadata": {},
     "output_type": "execute_result"
    }
   ],
   "source": [
    "(-3.6737)**2"
   ]
  },
  {
   "cell_type": "markdown",
   "id": "ada0c8c8-4ac6-4542-a957-fb77813cd2b6",
   "metadata": {},
   "source": [
    "t-statistic = -3.6737 vs F-statistic = 13.496\n",
    "\n",
    "therefore , $F-statistic = (t-statistic)^{2}$\n",
    "\n",
    "F (1,22) = 4.30095 and F-statistic = 13.496\n",
    "\n",
    "p-value under t-test : 0.001332 vs p-value under ANOVA = 0.001332. <br> Both the tests have same level of evidence against the null hypothesis. we reject the null hypothesis at 0.05 level of significance."
   ]
  },
  {
   "cell_type": "markdown",
   "id": "8740e311-8428-46b2-8f78-5b2543148389",
   "metadata": {},
   "source": [
    "#### One way ANOVA through Simple Linear Regression"
   ]
  },
  {
   "cell_type": "code",
   "execution_count": 10,
   "id": "3dcb7f4a-d6cb-4e6d-b87d-2c7da7ad40ff",
   "metadata": {},
   "outputs": [
    {
     "data": {
      "text/plain": [
       "array([14, 15, 11, 14, 10,  8, 13, 10, 12, 16, 15, 17, 21, 16, 20, 12, 18,\n",
       "       16, 21, 13, 20, 13, 20, 14])"
      ]
     },
     "execution_count": 10,
     "metadata": {},
     "output_type": "execute_result"
    }
   ],
   "source": [
    "np.concatenate((x1,x2),axis=0)"
   ]
  },
  {
   "cell_type": "code",
   "execution_count": 11,
   "id": "9036ffa3-254b-4c02-b3a4-a4e54a2e2760",
   "metadata": {},
   "outputs": [
    {
     "name": "stdout",
     "output_type": "stream",
     "text": [
      "    y data\n",
      "0  14   x1\n",
      "1  15   x1\n",
      "2  11   x1\n",
      "3  14   x1\n",
      "4  10   x1 \n",
      "\n",
      "<class 'pandas.core.frame.DataFrame'>\n",
      "RangeIndex: 24 entries, 0 to 23\n",
      "Data columns (total 2 columns):\n",
      " #   Column  Non-Null Count  Dtype \n",
      "---  ------  --------------  ----- \n",
      " 0   y       24 non-null     int64 \n",
      " 1   data    24 non-null     object\n",
      "dtypes: int64(1), object(1)\n",
      "memory usage: 516.0+ bytes\n",
      "None\n"
     ]
    }
   ],
   "source": [
    "import pandas as pd\n",
    "from itertools import repeat\n",
    "l1 = list(repeat(\"x1\",len(x1)))\n",
    "l2 = list(repeat(\"x2\",len(x2)))\n",
    "np.concatenate((np.array(l1),np.array(l2)),axis=0)\n",
    "\n",
    "dt = pd.DataFrame({\n",
    "    'y':np.concatenate((x1,x2),axis=0),\n",
    "    'data':np.concatenate((np.array(l1),np.array(l2)),axis=0)\n",
    "}\n",
    "    )\n",
    "print(dt.head(),\"\\n\")\n",
    "print(dt.info())"
   ]
  },
  {
   "cell_type": "code",
   "execution_count": 12,
   "id": "fe7afcd4-e3e8-4996-8a55-abd67a7fdc3f",
   "metadata": {},
   "outputs": [
    {
     "data": {
      "text/html": [
       "<div>\n",
       "<style scoped>\n",
       "    .dataframe tbody tr th:only-of-type {\n",
       "        vertical-align: middle;\n",
       "    }\n",
       "\n",
       "    .dataframe tbody tr th {\n",
       "        vertical-align: top;\n",
       "    }\n",
       "\n",
       "    .dataframe thead th {\n",
       "        text-align: right;\n",
       "    }\n",
       "</style>\n",
       "<table border=\"1\" class=\"dataframe\">\n",
       "  <thead>\n",
       "    <tr style=\"text-align: right;\">\n",
       "      <th></th>\n",
       "      <th>Df</th>\n",
       "      <th>Sum Sq</th>\n",
       "      <th>Mean Sq</th>\n",
       "      <th>F value</th>\n",
       "      <th>Pr(&gt;F)</th>\n",
       "    </tr>\n",
       "  </thead>\n",
       "  <tbody>\n",
       "    <tr>\n",
       "      <th>C(data)</th>\n",
       "      <td>1</td>\n",
       "      <td>118.2311</td>\n",
       "      <td>118.2311</td>\n",
       "      <td>13.4962</td>\n",
       "      <td>0.0013</td>\n",
       "    </tr>\n",
       "    <tr>\n",
       "      <th>Residual</th>\n",
       "      <td>22</td>\n",
       "      <td>192.7273</td>\n",
       "      <td>8.7603</td>\n",
       "      <td>NaN</td>\n",
       "      <td>NaN</td>\n",
       "    </tr>\n",
       "  </tbody>\n",
       "</table>\n",
       "</div>"
      ],
      "text/plain": [
       "          Df    Sum Sq   Mean Sq  F value  Pr(>F)\n",
       "C(data)    1  118.2311  118.2311  13.4962  0.0013\n",
       "Residual  22  192.7273    8.7603      NaN     NaN"
      ]
     },
     "execution_count": 12,
     "metadata": {},
     "output_type": "execute_result"
    }
   ],
   "source": [
    "import statsmodels.api as sm\n",
    "from statsmodels.formula.api import ols\n",
    "model = ols(\"y~C(data)\",data=dt).fit()\n",
    "aov_table = sm.stats.anova_lm(model,typ=2)\n",
    "\n",
    "aov_table['Mean_Sq'] = aov_table['sum_sq']/aov_table['df']\n",
    "aov_table.rename(columns={'sum_sq':'Sum Sq','df':'Df','F':'F value','PR(>F)':'Pr(>F)','Mean_Sq':'Mean Sq'},inplace=True)\n",
    "aov_table =aov_table[['Df','Sum Sq','Mean Sq','F value','Pr(>F)']]\n",
    "aov_table.loc[:,'Sum Sq':] = np.round(aov_table.loc[:,'Sum Sq':],4)\n",
    "aov_table['Df'] = aov_table['Df'].astype('int')\n",
    "\n",
    "aov_table"
   ]
  },
  {
   "cell_type": "markdown",
   "id": "e08411d4-6672-4703-b25b-1578030fd2ca",
   "metadata": {},
   "source": [
    "Residual sum of squares corresponds to within sum of squares <br>\n",
    "whereas C(data) sum of squares (regression sum of squares) corresponds to between sum of squares <br>\n",
    "Here the response variable is the combined sample value from 2 independent samples <br>\n",
    "and we have one regressor name \"data\" which is categorical and dichotomous."
   ]
  },
  {
   "cell_type": "markdown",
   "id": "a9c31761-341d-4b3b-b998-8f8cce667f6b",
   "metadata": {},
   "source": [
    "#### (c)"
   ]
  },
  {
   "cell_type": "code",
   "execution_count": 13,
   "id": "c35677bf-93b6-4300-a16d-5023e1e43868",
   "metadata": {},
   "outputs": [],
   "source": [
    "res = stats.mannwhitneyu(x1,x2,alternative='two-sided',method='exact')"
   ]
  },
  {
   "cell_type": "code",
   "execution_count": 14,
   "id": "482a4282-b26b-4e0e-bb54-c19008374836",
   "metadata": {},
   "outputs": [
    {
     "name": "stdout",
     "output_type": "stream",
     "text": [
      "test statistic :  22.5\n",
      "p-value :  0.0039\n"
     ]
    }
   ],
   "source": [
    "p_val = res.pvalue\n",
    "test_stat = res.statistic\n",
    "\n",
    "print(\"test statistic : \",np.round(test_stat,4))\n",
    "print(\"p-value : \",np.round(p_val,4))"
   ]
  },
  {
   "cell_type": "markdown",
   "id": "46f54b76-5f4a-4f46-9713-b5f3af6dbc67",
   "metadata": {},
   "source": [
    "* p-value of wilcoxon rank sum test : 0.004769\n",
    "* p-value under t-test : 0.001332 = p-value under ANOVA <br>\n",
    "Therefore one-way ANOVA or two sample t-test give stronger evidence to reject null hypothesis  compared to wilcoxon ranked sum test."
   ]
  },
  {
   "cell_type": "code",
   "execution_count": 15,
   "id": "8c86c50e-3d24-49fb-bf63-70755cd0f4d4",
   "metadata": {},
   "outputs": [
    {
     "data": {
      "text/plain": [
       "count    11.00\n",
       "mean     12.55\n",
       "std       2.54\n",
       "min       8.00\n",
       "25%      10.50\n",
       "50%      13.00\n",
       "75%      14.50\n",
       "max      16.00\n",
       "dtype: float64"
      ]
     },
     "execution_count": 15,
     "metadata": {},
     "output_type": "execute_result"
    }
   ],
   "source": [
    "x1 = pd.Series(x1)\n",
    "np.round(x1.describe(),2)"
   ]
  },
  {
   "cell_type": "code",
   "execution_count": 16,
   "id": "9bf0b601-8318-4958-9110-241913735dbd",
   "metadata": {},
   "outputs": [
    {
     "data": {
      "text/plain": [
       "count    13.00\n",
       "mean     17.00\n",
       "std       3.27\n",
       "min      12.00\n",
       "25%      14.00\n",
       "50%      17.00\n",
       "75%      20.00\n",
       "max      21.00\n",
       "dtype: float64"
      ]
     },
     "execution_count": 16,
     "metadata": {},
     "output_type": "execute_result"
    }
   ],
   "source": [
    "x2 = pd.Series(x2)\n",
    "np.round(x2.describe(),2)"
   ]
  },
  {
   "cell_type": "markdown",
   "id": "1b3a2f82-4da7-443e-9c16-9f12fd1dc196",
   "metadata": {},
   "source": [
    "Summary stats for t-test and ANOVA one way F-test\n",
    "||n|Mean|SD|\n",
    "|---|---|---|---|\n",
    "|sample 1|11|12.55|2.54|\n",
    "|sample 2|13|17.00|3.27|\n",
    "\n",
    "Summary stats for wilcoxon ranked sum test\n",
    "||n|Q1|Q2|Q3|min|max|\n",
    "|---|---|---|---|---|---|---|\n",
    "|sample 1|11|10.50|13.00|14.50|6.00|16.00|\n",
    "|sample 2|13|14.00|17.00|20.00|12.00|21.00|"
   ]
  },
  {
   "cell_type": "markdown",
   "id": "191d3ce0-cd06-4c3d-8f77-824b02802f23",
   "metadata": {},
   "source": [
    "---"
   ]
  },
  {
   "cell_type": "markdown",
   "id": "6b2c48b7-9cce-4956-99cf-2cad17e6318e",
   "metadata": {},
   "source": [
    "### Question 3"
   ]
  },
  {
   "attachments": {
    "b216f9c8-4fc7-45fd-9abe-7463033542ec.png": {
     "image/png": "[encoded data removed]"
    }
   },
   "cell_type": "markdown",
   "id": "98396497-3b49-422a-b0f1-c02482d62ba6",
   "metadata": {},
   "source": [
    "![image.png](attachment:b216f9c8-4fc7-45fd-9abe-7463033542ec.png)"
   ]
  },
  {
   "cell_type": "code",
   "execution_count": 17,
   "id": "bce8edc4-0341-4078-84f3-835216dd437a",
   "metadata": {},
   "outputs": [],
   "source": [
    "before = np.array([268,225,252,192,307,228,246,298,231,185])\n",
    "after = np.array([106,186,223,110,203,101,211,176,194,203])\n",
    "res = stats.ttest_rel(before,after,alternative='greater')"
   ]
  },
  {
   "cell_type": "code",
   "execution_count": 18,
   "id": "1c12aed7-7309-4c71-92c3-fe4dc0c1b405",
   "metadata": {},
   "outputs": [
    {
     "name": "stdout",
     "output_type": "stream",
     "text": [
      "test statistic :  4.0489\n",
      "p value :  0.0014\n",
      "degrees of freedom :  9\n",
      "95% confidence interval :  [39.3477     inf]\n",
      "mean difference :  71.9\n"
     ]
    }
   ],
   "source": [
    "test_stat = res.statistic\n",
    "p_val = res.pvalue\n",
    "df = res.df\n",
    "ci = res.confidence_interval(confidence_level=0.95)\n",
    "\n",
    "print(\"test statistic : \",np.round(test_stat,4))\n",
    "print(\"p value : \",np.round(p_val,4))\n",
    "print(\"degrees of freedom : \",df)\n",
    "print(\"95% confidence interval : \",np.round(ci,4))\n",
    "print(\"mean difference : \",np.round(np.mean(before-after),2))"
   ]
  },
  {
   "cell_type": "markdown",
   "id": "c04ae118-2254-4880-b045-60f1a1f9640c",
   "metadata": {},
   "source": [
    "Since p-value <= 0.05 , we reject the null hypothesis $H_{0} : d <= 0 $, and conclude that the new program reduces blood glucose level in diabetic patients. (where $d$ = before-after)"
   ]
  },
  {
   "cell_type": "code",
   "execution_count": 19,
   "id": "a8ab281b-c4d5-44ff-a6e7-d36b9b7a0ef6",
   "metadata": {},
   "outputs": [
    {
     "name": "stdout",
     "output_type": "stream",
     "text": [
      "count     10.000000\n",
      "mean     243.200000\n",
      "std       40.129789\n",
      "min      185.000000\n",
      "25%      225.750000\n",
      "50%      238.500000\n",
      "75%      264.000000\n",
      "max      307.000000\n",
      "dtype: float64 \n",
      "\n",
      "count     10.000000\n",
      "mean     171.300000\n",
      "std       47.112277\n",
      "min      101.000000\n",
      "25%      126.500000\n",
      "50%      190.000000\n",
      "75%      203.000000\n",
      "max      223.000000\n",
      "dtype: float64 \n",
      "\n",
      "count     10.000000\n",
      "mean      71.900000\n",
      "std       56.155439\n",
      "min      -18.000000\n",
      "25%       35.500000\n",
      "50%       60.500000\n",
      "75%      117.500000\n",
      "max      162.000000\n",
      "dtype: float64\n"
     ]
    }
   ],
   "source": [
    "before = pd.Series(before)\n",
    "after = pd.Series(after)\n",
    "diff = before-after\n",
    "print(before.describe(),\"\\n\")\n",
    "print(after.describe(),\"\\n\")\n",
    "print(diff.describe())"
   ]
  },
  {
   "cell_type": "markdown",
   "id": "445a82bd-8cb2-4fd2-91ce-7603df84a2d0",
   "metadata": {},
   "source": [
    "Summary Stats for paired t-test\n",
    "||n|mean|sd|\n",
    "|---|---|---|---|\n",
    "|before|10|243.20|40.13|\n",
    "|after|10|171.30|47.11|\n",
    "|difference|10|71.90|56.15|"
   ]
  },
  {
   "cell_type": "markdown",
   "id": "e33b7840-960f-4130-9f15-bdb9d6eca16b",
   "metadata": {},
   "source": [
    "#### (b)\n",
    "Summary Stats for wilcoxon signed rank and sign test\n",
    "||n|Q1|Q2|Q3|min|max|\n",
    "|---|---|---|---|---|---|---|\n",
    "|before|10|225.75|238.50|264.00|185.00|307.00|\n",
    "|after|10|126.50|190.00|203.00|101.00|223.00|\n",
    "|difference|10|35.50|60.50|117.50|-18.00|162.00|000000000000"
   ]
  },
  {
   "cell_type": "markdown",
   "id": "6a273dd7-d2cd-45f9-addb-efff4ccd0be1",
   "metadata": {},
   "source": [
    "#### using sign_test from statsmodels "
   ]
  },
  {
   "cell_type": "code",
   "execution_count": 20,
   "id": "2481a5f4-6b80-458c-abec-1d4630887b5d",
   "metadata": {},
   "outputs": [
    {
     "name": "stdout",
     "output_type": "stream",
     "text": [
      "test statistic :  4.0\n",
      "p-value :  0.02148\n"
     ]
    }
   ],
   "source": [
    "import statsmodels.stats.descriptivestats as sd\n",
    "diff = before-after\n",
    "diff = diff[diff!=0]\n",
    "res = sd.sign_test(before,after)\n",
    "print(\"test statistic : \",res[0]) # N/ (n_pos + n_neg)\n",
    "print(\"p-value : \" ,np.round(res[1],5))"
   ]
  },
  {
   "cell_type": "markdown",
   "id": "dd17876d-00dd-4e02-a163-8153f579065c",
   "metadata": {},
   "source": [
    "#### using stats.binomtest"
   ]
  },
  {
   "cell_type": "code",
   "execution_count": 21,
   "id": "5493dff4-a59e-4602-833d-d38616e3bd17",
   "metadata": {},
   "outputs": [
    {
     "data": {
      "text/plain": [
       "BinomTestResult(k=9, n=10, alternative='greater', statistic=0.9, pvalue=0.0107421875)"
      ]
     },
     "execution_count": 21,
     "metadata": {},
     "output_type": "execute_result"
    }
   ],
   "source": [
    "n_pos = np.sum(diff>0)\n",
    "n_neg = np.sum(diff<0)\n",
    "N=n_pos\n",
    "stats.binomtest(N,n_pos+n_neg,0.5,alternative='greater')"
   ]
  },
  {
   "cell_type": "markdown",
   "id": "25664708-4308-4774-9bc4-31e4f76e4fbd",
   "metadata": {},
   "source": [
    "#### using stats.wilcoxon"
   ]
  },
  {
   "cell_type": "code",
   "execution_count": 22,
   "id": "2deeb1c7-ce45-4701-86c5-1d4edacef036",
   "metadata": {},
   "outputs": [
    {
     "name": "stdout",
     "output_type": "stream",
     "text": [
      "test statistic :  54.0\n",
      "p value :  0.00195\n",
      "median difference :  60.5\n"
     ]
    }
   ],
   "source": [
    "diff = before-after\n",
    "diff = diff[diff!=0]\n",
    "res = stats.wilcoxon(diff,alternative='greater')\n",
    "test_stat = res.statistic\n",
    "p_val = res.pvalue\n",
    "\n",
    "print(\"test statistic : \",np.round(test_stat,4))\n",
    "print(\"p value : \",np.round(p_val,5))\n",
    "print(\"median difference : \",np.round(np.median(before-after),2))"
   ]
  },
  {
   "cell_type": "markdown",
   "id": "1b303768-767b-4cac-9e21-962bcbbafa88",
   "metadata": {},
   "source": [
    "* p-value by sign test = 0.02148 > p-value by wilcoxon signed rank test = 0.00195\n",
    "* therefore wilcoxon signed ranked test has stronger evidence against the null hypothesis.\n",
    "* we reject the null hypothesis that difference in medians is less than or equal to zero and conclude that glucose level of diabetic patients has decreased.\n",
    "* the median difference between 2 groups is 60.5."
   ]
  },
  {
   "cell_type": "markdown",
   "id": "27cfa4a2-c3fa-4d81-b15b-d3409aa34315",
   "metadata": {},
   "source": [
    "#### Question 4\n"
   ]
  },
  {
   "attachments": {
    "c85d631f-bccd-41ea-8a08-3be0a064df33.png": {
     "image/png": "[encoded data removed]"
    }
   },
   "cell_type": "markdown",
   "id": "66028a95-d761-447b-bee3-f157b2ec7825",
   "metadata": {},
   "source": [
    "![image.png](attachment:c85d631f-bccd-41ea-8a08-3be0a064df33.png)"
   ]
  },
  {
   "cell_type": "code",
   "execution_count": 23,
   "id": "35be9120-778e-420f-9d47-f327a45faa5c",
   "metadata": {},
   "outputs": [
    {
     "name": "stdout",
     "output_type": "stream",
     "text": [
      "      y        data\n",
      "0  5.85  field_work\n",
      "1  5.95  field_work\n",
      "2  6.18  field_work\n",
      "3  6.46  field_work\n",
      "4  5.63  field_work \n",
      "\n",
      "<class 'pandas.core.frame.DataFrame'>\n",
      "RangeIndex: 18 entries, 0 to 17\n",
      "Data columns (total 2 columns):\n",
      " #   Column  Non-Null Count  Dtype  \n",
      "---  ------  --------------  -----  \n",
      " 0   y       18 non-null     float64\n",
      " 1   data    18 non-null     object \n",
      "dtypes: float64(1), object(1)\n",
      "memory usage: 420.0+ bytes\n",
      "None\n"
     ]
    }
   ],
   "source": [
    "field_work = np.array([5.85,5.95,6.18,6.46,5.63,5.12])\n",
    "teaching = np.array([4.93,5.06,4.39,4.51,4.75,4.68])\n",
    "petty_shop = np.array([4.39,4.35,4.66,3.70,5.40,4.44])\n",
    "\n",
    "import pandas as pd\n",
    "from itertools import repeat\n",
    "l1 = list(repeat(\"field_work\",len(field_work)))\n",
    "l2 = list(repeat(\"teaching\",len(teaching)))\n",
    "l3 = list(repeat(\"petty_shop\",len(petty_shop)))\n",
    "np.concatenate((np.array(l1),np.array(l2),np.array(l3)),axis=0)\n",
    "\n",
    "dt = pd.DataFrame({\n",
    "    'y':np.concatenate((field_work,teaching,petty_shop),axis=0),\n",
    "    'data':np.concatenate((np.array(l1),np.array(l2),np.array(l3)),axis=0)\n",
    "}\n",
    "    )\n",
    "print(dt.head(),\"\\n\")\n",
    "print(dt.info())"
   ]
  },
  {
   "cell_type": "code",
   "execution_count": 24,
   "id": "d4511d87-7ef9-47c1-b1d5-d333a2b44d23",
   "metadata": {},
   "outputs": [
    {
     "data": {
      "text/html": [
       "<div>\n",
       "<style scoped>\n",
       "    .dataframe tbody tr th:only-of-type {\n",
       "        vertical-align: middle;\n",
       "    }\n",
       "\n",
       "    .dataframe tbody tr th {\n",
       "        vertical-align: top;\n",
       "    }\n",
       "\n",
       "    .dataframe thead th {\n",
       "        text-align: right;\n",
       "    }\n",
       "</style>\n",
       "<table border=\"1\" class=\"dataframe\">\n",
       "  <thead>\n",
       "    <tr style=\"text-align: right;\">\n",
       "      <th></th>\n",
       "      <th>Df</th>\n",
       "      <th>Sum Sq</th>\n",
       "      <th>Mean Sq</th>\n",
       "      <th>F value</th>\n",
       "      <th>Pr(&gt;F)</th>\n",
       "    </tr>\n",
       "  </thead>\n",
       "  <tbody>\n",
       "    <tr>\n",
       "      <th>C(data)</th>\n",
       "      <td>2</td>\n",
       "      <td>6.5091</td>\n",
       "      <td>3.2545</td>\n",
       "      <td>16.8377</td>\n",
       "      <td>0.0001</td>\n",
       "    </tr>\n",
       "    <tr>\n",
       "      <th>Residual</th>\n",
       "      <td>15</td>\n",
       "      <td>2.8993</td>\n",
       "      <td>0.1933</td>\n",
       "      <td>NaN</td>\n",
       "      <td>NaN</td>\n",
       "    </tr>\n",
       "  </tbody>\n",
       "</table>\n",
       "</div>"
      ],
      "text/plain": [
       "          Df  Sum Sq  Mean Sq  F value  Pr(>F)\n",
       "C(data)    2  6.5091   3.2545  16.8377  0.0001\n",
       "Residual  15  2.8993   0.1933      NaN     NaN"
      ]
     },
     "execution_count": 24,
     "metadata": {},
     "output_type": "execute_result"
    }
   ],
   "source": [
    "import statsmodels.api as sm\n",
    "from statsmodels.formula.api import ols\n",
    "\n",
    "model = ols(\"y~C(data)\",data=dt).fit()\n",
    "aov_table = sm.stats.anova_lm(model,typ=2)\n",
    "\n",
    "aov_table['Mean_Sq'] = aov_table['sum_sq']/aov_table['df']\n",
    "aov_table.rename(columns={'sum_sq':'Sum Sq','df':'Df','F':'F value','PR(>F)':'Pr(>F)','Mean_Sq':'Mean Sq'},inplace=True)\n",
    "aov_table =aov_table[['Df','Sum Sq','Mean Sq','F value','Pr(>F)']]\n",
    "aov_table.loc[:,'Sum Sq':] = np.round(aov_table.loc[:,'Sum Sq':],4)\n",
    "aov_table['Df'] = aov_table['Df'].astype('int')\n",
    "\n",
    "aov_table"
   ]
  },
  {
   "cell_type": "markdown",
   "id": "3189b9ac-9db4-447b-ac50-68d21165a432",
   "metadata": {},
   "source": [
    "#### (b)\n",
    "* samples are independent of each other\n",
    "* samples are randomly sampled or randomly assigned to each treatment\n",
    "* population variances are homogeneous\n",
    "* population distribution of dependent variable in each group is normal in shape"
   ]
  },
  {
   "cell_type": "markdown",
   "id": "c895297d-b752-41ca-a0e2-2fba678e2724",
   "metadata": {},
   "source": [
    "#### (c)"
   ]
  },
  {
   "cell_type": "code",
   "execution_count": 67,
   "id": "1750078d-1105-4f01-9c90-db3c81921fb7",
   "metadata": {},
   "outputs": [
    {
     "data": {
      "text/html": [
       "<table class=\"simpletable\">\n",
       "<caption>Test Multiple Comparison ttest_ind \n",
       "FWER=0.05 method=bonf\n",
       "alphacSidak=0.02, alphacBonf=0.017</caption>\n",
       "<tr>\n",
       "    <th>group1</th>     <th>group2</th>    <th>stat</th>    <th>pval</th>  <th>pval_corr</th> <th>reject</th>\n",
       "</tr>\n",
       "<tr>\n",
       "  <td>field_work</td> <td>petty_shop</td> <td>4.6849</td>  <td>0.0009</td>  <td>0.0026</td>    <td>True</td> \n",
       "</tr>\n",
       "<tr>\n",
       "  <td>field_work</td>  <td>teaching</td>  <td>5.3267</td>  <td>0.0003</td>   <td>0.001</td>    <td>True</td> \n",
       "</tr>\n",
       "<tr>\n",
       "  <td>petty_shop</td>  <td>teaching</td>  <td>-0.9317</td> <td>0.3735</td>    <td>1.0</td>     <td>False</td>\n",
       "</tr>\n",
       "</table>"
      ],
      "text/latex": [
       "\\begin{center}\n",
       "\\begin{tabular}{cccccc}\n",
       "\\toprule\n",
       "\\textbf{group1} & \\textbf{group2} & \\textbf{stat} & \\textbf{pval} & \\textbf{pval\\_corr} & \\textbf{reject}  \\\\\n",
       "\\midrule\n",
       "  field\\_work   &   petty\\_shop   &     4.6849    &     0.0009    &        0.0026       &       True       \\\\\n",
       "  field\\_work   &     teaching    &     5.3267    &     0.0003    &        0.001        &       True       \\\\\n",
       "  petty\\_shop   &     teaching    &    -0.9317    &     0.3735    &         1.0         &      False       \\\\\n",
       "\\bottomrule\n",
       "\\end{tabular}\n",
       "%\\caption{Test Multiple Comparison ttest_ind \n",
       "FWER=0.05 method=bonf\n",
       "alphacSidak=0.02, alphacBonf=0.017}\n",
       "\\end{center}"
      ],
      "text/plain": [
       "<class 'statsmodels.iolib.table.SimpleTable'>"
      ]
     },
     "execution_count": 67,
     "metadata": {},
     "output_type": "execute_result"
    }
   ],
   "source": [
    "import statsmodels.stats.multicomp as mc\n",
    "\n",
    "comp = mc.MultiComparison(dt['y'], dt['data'])\n",
    "tbl, a1, a2 = comp.allpairtest(stats.ttest_ind, alpha=0.05,method= \"bonf\")\n",
    "tbl\n"
   ]
  },
  {
   "cell_type": "code",
   "execution_count": 70,
   "id": "b6ad8ea4-e6c1-48cc-a4a8-dc87bdec1f9e",
   "metadata": {},
   "outputs": [
    {
     "data": {
      "text/plain": [
       "array([-2.214, -0.536])"
      ]
     },
     "execution_count": 70,
     "metadata": {},
     "output_type": "execute_result"
    }
   ],
   "source": [
    "res = stats.ttest_ind(petty_shop,field_work,equal_var=True,alternative='two-sided')\n",
    "ci = res.confidence_interval(confidence_level=0.983)\n",
    "p1 = res.pvalue\n",
    "np.round(ci,4)"
   ]
  },
  {
   "cell_type": "code",
   "execution_count": 69,
   "id": "a6c0482c-399f-49a6-98ad-e476960eeed5",
   "metadata": {},
   "outputs": [
    {
     "data": {
      "text/plain": [
       "array([-1.7594, -0.5306])"
      ]
     },
     "execution_count": 69,
     "metadata": {},
     "output_type": "execute_result"
    }
   ],
   "source": [
    "res = stats.ttest_ind(teaching,field_work,equal_var=True,alternative='two-sided')\n",
    "ci = res.confidence_interval(confidence_level=0.983)\n",
    "p2 = res.pvalue\n",
    "np.round(ci,4)"
   ]
  },
  {
   "cell_type": "code",
   "execution_count": 68,
   "id": "a60dab83-5131-4e97-b767-2c27ec1844f8",
   "metadata": {},
   "outputs": [
    {
     "data": {
      "text/plain": [
       "array([-0.4757,  0.9357])"
      ]
     },
     "execution_count": 68,
     "metadata": {},
     "output_type": "execute_result"
    }
   ],
   "source": [
    "res = stats.ttest_ind(teaching,petty_shop,equal_var=True,alternative='two-sided')\n",
    "ci = res.confidence_interval(confidence_level=0.983)\n",
    "p3 = res.pvalue\n",
    "np.round(ci,4)"
   ]
  },
  {
   "cell_type": "markdown",
   "id": "84b7d0ac-4965-4d4b-8644-063eec3ad822",
   "metadata": {},
   "source": [
    "compute confidence intervals for above test"
   ]
  },
  {
   "cell_type": "code",
   "execution_count": 66,
   "id": "bcd0cdd9-97d7-48bf-9884-e61e187712b9",
   "metadata": {},
   "outputs": [
    {
     "name": "stdout",
     "output_type": "stream",
     "text": [
      "test statistic :  11.506\n",
      "p-value :  0.0032\n"
     ]
    }
   ],
   "source": [
    "result = stats.kruskal(field_work,petty_shop,teaching)\n",
    "\n",
    "test_stat = result.statistic\n",
    "p_val = result.pvalue\n",
    "\n",
    "print(\"test statistic : \",np.round(test_stat,4))\n",
    "print(\"p-value : \",np.round(p_val,4))"
   ]
  },
  {
   "cell_type": "markdown",
   "id": "28293d06-1202-47ad-bd45-c9ec15c55ed6",
   "metadata": {},
   "source": [
    "* p-value for ANOVA : 0.000147\n",
    "* p-value for Kruskal-Wallis : 0.003173\n",
    "* we reject the null hypothesis of equality between medians of 3 populations. atleast one of them differs from the other 2.\n",
    "* p-value of ANOVA is less than that of Kruskal_Wallis. Therefore ANOVA has stronger evidence for rejecting the null hypothesis of equality of means of populations"
   ]
  }
 ],
 "metadata": {
  "kernelspec": {
   "display_name": "Python 3 (ipykernel)",
   "language": "python",
   "name": "python3"
  },
  "language_info": {
   "codemirror_mode": {
    "name": "ipython",
    "version": 3
   },
   "file_extension": ".py",
   "mimetype": "text/x-python",
   "name": "python",
   "nbconvert_exporter": "python",
   "pygments_lexer": "ipython3",
   "version": "3.11.6"
  }
 },
 "nbformat": 4,
 "nbformat_minor": 5
}
