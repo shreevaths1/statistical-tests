{
 "cells": [
  {
   "cell_type": "markdown",
   "id": "8533cd64-d269-492e-8252-6dda913fd178",
   "metadata": {},
   "source": [
    "### Cohen's Kappa"
   ]
  },
  {
   "cell_type": "markdown",
   "id": "48884c0c-3537-4a3e-bb21-2b6427ac54f6",
   "metadata": {},
   "source": [
    "Variables\n",
    "\n",
    "treatment response - positive (+) or negative (-) (Dichotomous)\n",
    "there are 2 variables - before and after treatment responses which are applied on a sample of 9 subjects\n",
    "\n",
    "Objective\n",
    "To assess the effectiveness of a new medical treatment in treating a rare medical condition\n",
    "\n",
    "Choice of Method\n",
    "we use Cohen's Kappa , since the data given is a series of paired data representing presence or absence of disease before and after treatment on each individual.\n",
    "And since the categories are measured on a nominal scale and we are comparing ratings of patients by 2 scenarios , cohen's kappa measure is sufficient\n",
    "\n",
    "Hypothesis\n",
    "\n",
    "* Null Hypothesis: There is perfect agreement between before and after treatment conditions,i.e., there is no significant effectiveness of the drug in treating the disease.\n",
    "K = 1\n",
    "* Alternative hypothesis : There is no perfect agreement between before and after treatment conditions\n",
    "K < 1\n",
    "\n",
    "Level of Significance\n",
    "we are testing the hypothesis at 0.05 level of significance\n",
    "\n",
    "Assumptions\n",
    "\n",
    "* ratings are nominal.\n",
    "* the categories are mutually exclusive and exhaustive\n",
    "* ratings are independent - ratings do not influence each others ratings\n",
    "* raters are consistent, meaning that they rate the same items in the same way over time"
   ]
  },
  {
   "cell_type": "code",
   "execution_count": 12,
   "id": "c3da7172-54b2-48c4-9c05-e52d4d255767",
   "metadata": {},
   "outputs": [
    {
     "data": {
      "text/html": [
       "<div>\n",
       "<style scoped>\n",
       "    .dataframe tbody tr th:only-of-type {\n",
       "        vertical-align: middle;\n",
       "    }\n",
       "\n",
       "    .dataframe tbody tr th {\n",
       "        vertical-align: top;\n",
       "    }\n",
       "\n",
       "    .dataframe thead th {\n",
       "        text-align: right;\n",
       "    }\n",
       "</style>\n",
       "<table border=\"1\" class=\"dataframe\">\n",
       "  <thead>\n",
       "    <tr style=\"text-align: right;\">\n",
       "      <th></th>\n",
       "      <th>before</th>\n",
       "      <th>after</th>\n",
       "    </tr>\n",
       "  </thead>\n",
       "  <tbody>\n",
       "    <tr>\n",
       "      <th>0</th>\n",
       "      <td>+</td>\n",
       "      <td>+</td>\n",
       "    </tr>\n",
       "    <tr>\n",
       "      <th>1</th>\n",
       "      <td>+</td>\n",
       "      <td>+</td>\n",
       "    </tr>\n",
       "    <tr>\n",
       "      <th>2</th>\n",
       "      <td>+</td>\n",
       "      <td>+</td>\n",
       "    </tr>\n",
       "    <tr>\n",
       "      <th>3</th>\n",
       "      <td>-</td>\n",
       "      <td>-</td>\n",
       "    </tr>\n",
       "    <tr>\n",
       "      <th>4</th>\n",
       "      <td>+</td>\n",
       "      <td>-</td>\n",
       "    </tr>\n",
       "    <tr>\n",
       "      <th>5</th>\n",
       "      <td>+</td>\n",
       "      <td>-</td>\n",
       "    </tr>\n",
       "    <tr>\n",
       "      <th>6</th>\n",
       "      <td>+</td>\n",
       "      <td>-</td>\n",
       "    </tr>\n",
       "    <tr>\n",
       "      <th>7</th>\n",
       "      <td>-</td>\n",
       "      <td>-</td>\n",
       "    </tr>\n",
       "    <tr>\n",
       "      <th>8</th>\n",
       "      <td>-</td>\n",
       "      <td>-</td>\n",
       "    </tr>\n",
       "  </tbody>\n",
       "</table>\n",
       "</div>"
      ],
      "text/plain": [
       "  before after\n",
       "0      +     +\n",
       "1      +     +\n",
       "2      +     +\n",
       "3      -     -\n",
       "4      +     -\n",
       "5      +     -\n",
       "6      +     -\n",
       "7      -     -\n",
       "8      -     -"
      ]
     },
     "execution_count": 12,
     "metadata": {},
     "output_type": "execute_result"
    }
   ],
   "source": [
    "import pandas as pd\n",
    "data = pd.DataFrame({\n",
    "    'before': ['+','+','+','-','+','+','+','-','-'],\n",
    "    'after':['+','+','+','-','-','-','-','-','-']})\n",
    "data"
   ]
  },
  {
   "cell_type": "code",
   "execution_count": 13,
   "id": "1c4c2571-a031-4097-9f62-14f8002e4193",
   "metadata": {},
   "outputs": [
    {
     "data": {
      "text/html": [
       "<div>\n",
       "<style scoped>\n",
       "    .dataframe tbody tr th:only-of-type {\n",
       "        vertical-align: middle;\n",
       "    }\n",
       "\n",
       "    .dataframe tbody tr th {\n",
       "        vertical-align: top;\n",
       "    }\n",
       "\n",
       "    .dataframe thead th {\n",
       "        text-align: right;\n",
       "    }\n",
       "</style>\n",
       "<table border=\"1\" class=\"dataframe\">\n",
       "  <thead>\n",
       "    <tr style=\"text-align: right;\">\n",
       "      <th>After</th>\n",
       "      <th>-</th>\n",
       "      <th>+</th>\n",
       "      <th>All</th>\n",
       "    </tr>\n",
       "    <tr>\n",
       "      <th>Before</th>\n",
       "      <th></th>\n",
       "      <th></th>\n",
       "      <th></th>\n",
       "    </tr>\n",
       "  </thead>\n",
       "  <tbody>\n",
       "    <tr>\n",
       "      <th>-</th>\n",
       "      <td>3</td>\n",
       "      <td>0</td>\n",
       "      <td>3</td>\n",
       "    </tr>\n",
       "    <tr>\n",
       "      <th>+</th>\n",
       "      <td>3</td>\n",
       "      <td>3</td>\n",
       "      <td>6</td>\n",
       "    </tr>\n",
       "    <tr>\n",
       "      <th>All</th>\n",
       "      <td>6</td>\n",
       "      <td>3</td>\n",
       "      <td>9</td>\n",
       "    </tr>\n",
       "  </tbody>\n",
       "</table>\n",
       "</div>"
      ],
      "text/plain": [
       "After   -  +  All\n",
       "Before           \n",
       "-       3  0    3\n",
       "+       3  3    6\n",
       "All     6  3    9"
      ]
     },
     "execution_count": 13,
     "metadata": {},
     "output_type": "execute_result"
    }
   ],
   "source": [
    "# create some data \n",
    "before = pd.Categorical(['+','+','+','-','+','+','+','-','-'],  \n",
    "                         categories=['-', '+']) \n",
    "  \n",
    "after = pd.Categorical(['+','+','+','-','-','-','-','-','-'],  \n",
    "                         categories=['-','+']) \n",
    "\n",
    "pd.crosstab(before, after,margins=True,rownames=['Before'], colnames=['After']) "
   ]
  },
  {
   "cell_type": "markdown",
   "id": "0f13015d-36b4-489b-bce8-ff73378d5ae9",
   "metadata": {},
   "source": [
    "'+' represents absence of disease\n",
    "\n",
    "'-' represents presence of disease"
   ]
  },
  {
   "cell_type": "code",
   "execution_count": 14,
   "id": "7195aa4a-cdba-487a-a996-af720b56e5cc",
   "metadata": {},
   "outputs": [
    {
     "data": {
      "text/plain": [
       "0.4"
      ]
     },
     "execution_count": 14,
     "metadata": {},
     "output_type": "execute_result"
    }
   ],
   "source": [
    "from sklearn.metrics import cohen_kappa_score\n",
    "\n",
    "#define array of ratings for both raters\n",
    "rater1 = ['+','+','+','-','+','+','+','-','-']\n",
    "rater2 = ['+','+','+','-','-','-','-','-','-']\n",
    "\n",
    "#calculate Cohen's Kappa\n",
    "cohen_kappa_score(rater1, rater2)"
   ]
  },
  {
   "cell_type": "code",
   "execution_count": 15,
   "id": "b8c874de-bf40-4637-8e44-ad99ffbdd45c",
   "metadata": {},
   "outputs": [
    {
     "data": {
      "text/plain": [
       "0.4"
      ]
     },
     "execution_count": 15,
     "metadata": {},
     "output_type": "execute_result"
    }
   ],
   "source": [
    "cohen_kappa_score(rater1,rater2,weights='linear')"
   ]
  },
  {
   "cell_type": "markdown",
   "id": "d38dba9b-c93e-490f-8fb7-3f70f014e391",
   "metadata": {},
   "source": [
    "Interpretation\n",
    "\n",
    "since kappa value k = 0.4 < 1, we reject the null hypothesis at 0.05 level of significance and conclude that there is significant effectiveness in the response of drug in treating the disease."
   ]
  },
  {
   "cell_type": "markdown",
   "id": "d2cab032-4b28-46bb-9fcc-f9f7ae8e97c9",
   "metadata": {},
   "source": [
    "### Try mcnemar test on above example"
   ]
  },
  {
   "cell_type": "markdown",
   "id": "b4dff3b8-b164-4fae-b3d8-838928407448",
   "metadata": {},
   "source": [
    "### Fleiss' Kappa"
   ]
  },
  {
   "cell_type": "code",
   "execution_count": 33,
   "id": "2490b1de-6206-4f93-82f0-2519908d5fd5",
   "metadata": {},
   "outputs": [],
   "source": [
    "from statsmodels.stats import inter_rater as irr\n",
    "df = pd.read_csv(\"fliess.csv\")"
   ]
  },
  {
   "cell_type": "code",
   "execution_count": 34,
   "id": "74209a1f-ec7b-4083-9c2e-d83298d111ee",
   "metadata": {},
   "outputs": [
    {
     "data": {
      "text/plain": [
       "array([[3, 3, 3, 4, 5, 5, 2, 3, 5, 2, 2, 6, 1, 5, 2, 2, 1, 2, 4, 3],\n",
       "       [3, 6, 4, 6, 2, 4, 2, 4, 3, 3, 2, 3, 3, 3, 2, 2, 1, 3, 3, 4],\n",
       "       [2, 1, 4, 4, 3, 2, 1, 6, 1, 1, 1, 2, 3, 3, 1, 1, 3, 3, 2, 2]])"
      ]
     },
     "execution_count": 34,
     "metadata": {},
     "output_type": "execute_result"
    }
   ],
   "source": [
    "import numpy as np\n",
    "tbl = df.to_numpy()\n",
    "tbl.T"
   ]
  },
  {
   "cell_type": "code",
   "execution_count": 39,
   "id": "115ef465-c23e-41f7-a255-618f31652a6a",
   "metadata": {},
   "outputs": [
    {
     "data": {
      "text/plain": [
       "array([[0, 1, 2, 0, 0, 0],\n",
       "       [1, 0, 1, 0, 0, 1],\n",
       "       [0, 0, 1, 2, 0, 0],\n",
       "       [0, 0, 0, 2, 0, 1],\n",
       "       [0, 1, 1, 0, 1, 0],\n",
       "       [0, 1, 0, 1, 1, 0],\n",
       "       [1, 2, 0, 0, 0, 0],\n",
       "       [0, 0, 1, 1, 0, 1],\n",
       "       [1, 0, 1, 0, 1, 0],\n",
       "       [1, 1, 1, 0, 0, 0],\n",
       "       [1, 2, 0, 0, 0, 0],\n",
       "       [0, 1, 1, 0, 0, 1],\n",
       "       [1, 0, 2, 0, 0, 0],\n",
       "       [0, 0, 2, 0, 1, 0],\n",
       "       [1, 2, 0, 0, 0, 0],\n",
       "       [1, 2, 0, 0, 0, 0],\n",
       "       [2, 0, 1, 0, 0, 0],\n",
       "       [0, 1, 2, 0, 0, 0],\n",
       "       [0, 1, 1, 1, 0, 0],\n",
       "       [0, 1, 1, 1, 0, 0]])"
      ]
     },
     "execution_count": 39,
     "metadata": {},
     "output_type": "execute_result"
    }
   ],
   "source": [
    "dats, cats = irr.aggregate_raters(tbl)\n",
    "dats"
   ]
  },
  {
   "cell_type": "code",
   "execution_count": 42,
   "id": "fbd8ef75-d97f-4696-baf2-72a806dbb4ad",
   "metadata": {},
   "outputs": [
    {
     "data": {
      "text/plain": [
       "-0.04107648725212462"
      ]
     },
     "execution_count": 42,
     "metadata": {},
     "output_type": "execute_result"
    }
   ],
   "source": [
    "kappa = irr.fleiss_kappa(dats, method='fleiss')\n",
    "kappa"
   ]
  },
  {
   "cell_type": "markdown",
   "id": "0de968db-6d4d-41e3-841c-0bdd2cb7e834",
   "metadata": {},
   "source": [
    "Interpretation: From the Kappa Value it is clear that, there is no agreement between the raters since the value is less than zero."
   ]
  }
 ],
 "metadata": {
  "kernelspec": {
   "display_name": "Python 3 (ipykernel)",
   "language": "python",
   "name": "python3"
  },
  "language_info": {
   "codemirror_mode": {
    "name": "ipython",
    "version": 3
   },
   "file_extension": ".py",
   "mimetype": "text/x-python",
   "name": "python",
   "nbconvert_exporter": "python",
   "pygments_lexer": "ipython3",
   "version": "3.11.6"
  }
 },
 "nbformat": 4,
 "nbformat_minor": 5
}
