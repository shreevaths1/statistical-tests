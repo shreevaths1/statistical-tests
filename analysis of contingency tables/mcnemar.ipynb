{
 "cells": [
  {
   "cell_type": "markdown",
   "id": "191d3e38-af8f-4410-986e-6a1bcd71d5fe",
   "metadata": {},
   "source": [
    "### McNemar Test"
   ]
  },
  {
   "cell_type": "markdown",
   "id": "3d03bfd0-098e-4987-b64c-7bfc1819cb7a",
   "metadata": {},
   "source": [
    "Variables\n",
    "\n",
    "Outcomes of campaigns - success or failure (dichotomous)\n",
    "\n",
    "* sucess - lead converted into a customer\n",
    "* failure - lead not converted into a customer\n",
    "\n",
    "Objective\n",
    "to determine which campaign was more effective in converting leads into campaigns\n",
    "\n",
    "Choice of Method\n",
    "McNemar Test since we have :\n",
    "* 2 campaigns - A and B observing their outcomes on the same set of leads\n",
    "* therefore we have dichotomous trait with matched pair of subjects\n",
    "\n",
    "Hypothesis\n",
    "Null Hypothesis : marginal homogeneity states that 2 marginal probabilities for each outcome are the same. (pb = pc)\n",
    "Alternative Hypothesis: 2 marginal probabilities for each outcome are NOT the same. (pb != pc)\n",
    "\n",
    "Level of significance\n",
    "we want to test the hypothesis at 5% level of significance\n",
    "\n",
    "Assumptions\n",
    "\n",
    "* Paired Data : Data consists of pairs of obeservations\n",
    "* Dichotomous variables - variable being used has only 2 categories\n",
    "* independence of pairs - pair of observations are independent of each other\n",
    "* sufficient sample size : there at atleast 10 discordant pairs where the 2 variables (here campaign A and campaign B) have different categories for the same subject.\n",
    "\n",
    "Results Table\n",
    "||B|||\n",
    "|---|---|---|---|\n",
    "|A|Converted|Not Converted|Total|\n",
    "|Converted|30|10|40|\n",
    "|Not converted|20|40|60|\n",
    "|Total|50|50|100|"
   ]
  },
  {
   "cell_type": "code",
   "execution_count": 2,
   "id": "2738ca8b-1088-476a-8f97-0c5ce65c07a1",
   "metadata": {},
   "outputs": [],
   "source": [
    "data = [[30,10],\n",
    "       [20,40]]"
   ]
  },
  {
   "cell_type": "code",
   "execution_count": 5,
   "id": "3abd5e5c-7822-4c89-ba5c-3fd18a5fc75f",
   "metadata": {},
   "outputs": [
    {
     "name": "stdout",
     "output_type": "stream",
     "text": [
      "pvalue      0.10034824646229054\n",
      "statistic   2.7\n",
      "pvalue      0.06788915486182893\n",
      "statistic   3.3333333333333335\n"
     ]
    }
   ],
   "source": [
    "from statsmodels.stats.contingency_tables import mcnemar\n",
    "#McNemar's Test with no continuity correction (uses binomial)\n",
    "print(mcnemar(data, exact=False))\n",
    "\n",
    "#McNemar's Test with continuity correction (uses chisquare)\n",
    "print(mcnemar(data, exact=False, correction=False))"
   ]
  },
  {
   "cell_type": "markdown",
   "id": "b6783d87-f2bb-4b31-b94e-ccb6333e04b5",
   "metadata": {},
   "source": [
    "Interpretation\n",
    "\n",
    "p-value > level of significance. Hence we fail to reject null hypothesis at 0.05 level of significance and conclude that there is no significant difference in the effectiveness of campaign A and campaign B."
   ]
  }
 ],
 "metadata": {
  "kernelspec": {
   "display_name": "Python 3 (ipykernel)",
   "language": "python",
   "name": "python3"
  },
  "language_info": {
   "codemirror_mode": {
    "name": "ipython",
    "version": 3
   },
   "file_extension": ".py",
   "mimetype": "text/x-python",
   "name": "python",
   "nbconvert_exporter": "python",
   "pygments_lexer": "ipython3",
   "version": "3.11.6"
  }
 },
 "nbformat": 4,
 "nbformat_minor": 5
}
