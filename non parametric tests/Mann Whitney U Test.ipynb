{
 "cells": [
  {
   "cell_type": "code",
   "execution_count": 1,
   "id": "137843ce-2e45-42b1-8cfa-5c83a7dde867",
   "metadata": {},
   "outputs": [],
   "source": [
    "import numpy as np\n",
    "from scipy import stats\n",
    "import matplotlib.pyplot as plt"
   ]
  },
  {
   "cell_type": "markdown",
   "id": "7b2da6c8-81e8-470a-b43c-cb6983f9d04c",
   "metadata": {},
   "source": [
    "#### Wilcoxon Rank Sum Test OR Mann-Whitney U Test"
   ]
  },
  {
   "cell_type": "markdown",
   "id": "7f7a2bb1-a4dc-41d6-b739-7e7fcb577a4b",
   "metadata": {},
   "source": [
    "#### Example 1 (exact p-value - i.e. using exact distribution of test statistic U)"
   ]
  },
  {
   "cell_type": "code",
   "execution_count": 9,
   "id": "74d507f1-0246-4e8a-a9cb-1dcc3ea03be2",
   "metadata": {},
   "outputs": [],
   "source": [
    "### Enter hypothesis statement to test in markdown"
   ]
  },
  {
   "cell_type": "code",
   "execution_count": 3,
   "id": "95615f01-a190-430f-99a6-16f75a1fd9b8",
   "metadata": {},
   "outputs": [
    {
     "name": "stdout",
     "output_type": "stream",
     "text": [
      "test statistic :  28.0\n",
      "p-value :  0.66\n",
      "We fail to reject null hypothesis at 5% level of significance and conclude that difference b/w medians is equal to 0\n"
     ]
    }
   ],
   "source": [
    "sample1 = np.array([85,99,100,110,105,87])\n",
    "sample2 = np.array([67,69,70,93,105,90,110,115])\n",
    "\n",
    "result = stats.mannwhitneyu(sample1,sample2,alternative='two-sided',method='exact')\n",
    "p_val = result.pvalue\n",
    "test_stat = result.statistic\n",
    "\n",
    "print(\"test statistic : \",np.round(test_stat,2)) \n",
    "print(\"p-value : \" , np.round(p_val,2))\n",
    "\n",
    "if p_val <= 0.05:\n",
    "    print(\"We reject null hypothesis at 5% level of significance and conclude that difference b/w medians is not equal to 0\")\n",
    "else:\n",
    "    print(\"We fail to reject null hypothesis at 5% level of significance and conclude that difference b/w medians is equal to 0\")"
   ]
  },
  {
   "cell_type": "markdown",
   "id": "650aebc9-8f83-4f0a-b722-4d9dd8fe4c26",
   "metadata": {},
   "source": [
    "#### Example 1 : large sample approximation (which shouldn't used for this)"
   ]
  },
  {
   "cell_type": "code",
   "execution_count": 10,
   "id": "ea37e002-1153-4e39-817d-7568032773f3",
   "metadata": {},
   "outputs": [],
   "source": [
    "### Enter hypothesis statement to test in markdown"
   ]
  },
  {
   "cell_type": "code",
   "execution_count": 6,
   "id": "36eda93c-4293-4222-b63f-852afa0625d1",
   "metadata": {},
   "outputs": [
    {
     "name": "stdout",
     "output_type": "stream",
     "text": [
      "test statistic :  0.52\n",
      "p-value :  0.61\n",
      "We fail to reject null hypothesis at 5% level of significance and conclude that median difference is equal to 0\n"
     ]
    }
   ],
   "source": [
    "sample1 = np.array([85,99,100,110,105,87])\n",
    "sample2 = np.array([67,69,70,93,105,90,110,115])\n",
    "\n",
    "result = stats.ranksums(sample1,sample2,alternative='two-sided')\n",
    "p_val = result.pvalue\n",
    "test_stat = result.statistic\n",
    "\n",
    "print(\"test statistic : \",np.round(test_stat,2)) \n",
    "print(\"p-value : \" , np.round(p_val,2))\n",
    "\n",
    "if p_val <= 0.05:\n",
    "    print(\"We reject null hypothesis at 5% level of significance and conclude that median difference is not equal to 0\")\n",
    "else:\n",
    "    print(\"We fail to reject null hypothesis at 5% level of significance and conclude that median difference is equal to 0\")"
   ]
  },
  {
   "cell_type": "markdown",
   "id": "69c5542f-401e-446e-993c-400ef6cf08aa",
   "metadata": {},
   "source": [
    "#### Example 2 (large sample approximation)"
   ]
  },
  {
   "cell_type": "markdown",
   "id": "5da1af53-f11a-469c-a112-a22041d4fc24",
   "metadata": {},
   "source": [
    "#### using scipy.stats.mannwhitneyu function\n",
    "use method = 'aysmptotic'"
   ]
  },
  {
   "cell_type": "code",
   "execution_count": 11,
   "id": "bcf32cc4-dcef-4345-954b-0841e76ec49f",
   "metadata": {},
   "outputs": [],
   "source": [
    "### Enter hypothesis statement to test in markdown"
   ]
  },
  {
   "cell_type": "code",
   "execution_count": 7,
   "id": "ab8acd2d-283a-405a-9341-6cf7e3fe9443",
   "metadata": {},
   "outputs": [
    {
     "name": "stdout",
     "output_type": "stream",
     "text": [
      "test statistic :  95.5\n",
      "p-value :  0.07\n",
      "We fail to reject null hypothesis at 5% level of significance and conclude that median difference is equal to 0\n"
     ]
    }
   ],
   "source": [
    "male = np.array([9.3,0.0,12.2,8.1,5.7,6.8,3.6,9.4,8.5,7.3,9.7])\n",
    "female = np.array([7.1,0.0,5.9,7.6,2.8,5.8,7.2,7.4,3.5,3.3,7.5,7.0])\n",
    "\n",
    "result = stats.mannwhitneyu(male,female,alternative='two-sided',method='asymptotic')\n",
    "p_val = result.pvalue\n",
    "test_stat = result.statistic\n",
    "\n",
    "print(\"test statistic : \",np.round(test_stat,2)) \n",
    "print(\"p-value : \" , np.round(p_val,2))\n",
    "\n",
    "if p_val <= 0.05:\n",
    "    print(\"We reject null hypothesis at 5% level of significance and conclude that median difference is not equal to 0\")\n",
    "else:\n",
    "    print(\"We fail to reject null hypothesis at 5% level of significance and conclude that median difference is equal to 0\")"
   ]
  },
  {
   "cell_type": "markdown",
   "id": "8c948482-282b-451e-9a3d-a89f0df64f3c",
   "metadata": {},
   "source": [
    "#### using scipy.stats.ranksums function\n",
    "automatically calculates using large sample approximation"
   ]
  },
  {
   "cell_type": "code",
   "execution_count": 12,
   "id": "b525b4ae-879b-4a69-b5fa-07c27bd99d01",
   "metadata": {},
   "outputs": [],
   "source": [
    "### Enter hypothesis statement to test in markdown"
   ]
  },
  {
   "cell_type": "code",
   "execution_count": 8,
   "id": "b6ac4a0a-9a67-4a77-9f95-57fa8cdddce4",
   "metadata": {},
   "outputs": [
    {
     "name": "stdout",
     "output_type": "stream",
     "text": [
      "test statistic :  1.82\n",
      "p-value :  0.07\n",
      "We fail to reject null hypothesis at 5% level of significance and conclude that median difference is equal to 0\n"
     ]
    }
   ],
   "source": [
    "male = np.array([9.3,0.0,12.2,8.1,5.7,6.8,3.6,9.4,8.5,7.3,9.7])\n",
    "female = np.array([7.1,0.0,5.9,7.6,2.8,5.8,7.2,7.4,3.5,3.3,7.5,7.0])\n",
    "\n",
    "result = stats.ranksums(male,female,alternative='two-sided')\n",
    "p_val = result.pvalue\n",
    "test_stat = result.statistic\n",
    "\n",
    "print(\"test statistic : \",np.round(test_stat,2)) \n",
    "print(\"p-value : \" , np.round(p_val,2))\n",
    "\n",
    "if p_val <= 0.05:\n",
    "    print(\"We reject null hypothesis at 5% level of significance and conclude that median difference is not equal to 0\")\n",
    "else:\n",
    "    print(\"We fail to reject null hypothesis at 5% level of significance and conclude that median difference is equal to 0\")"
   ]
  }
 ],
 "metadata": {
  "kernelspec": {
   "display_name": "Python 3 (ipykernel)",
   "language": "python",
   "name": "python3"
  },
  "language_info": {
   "codemirror_mode": {
    "name": "ipython",
    "version": 3
   },
   "file_extension": ".py",
   "mimetype": "text/x-python",
   "name": "python",
   "nbconvert_exporter": "python",
   "pygments_lexer": "ipython3",
   "version": "3.11.6"
  }
 },
 "nbformat": 4,
 "nbformat_minor": 5
}
