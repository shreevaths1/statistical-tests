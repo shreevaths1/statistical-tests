{
 "cells": [
  {
   "cell_type": "code",
   "execution_count": 1,
   "id": "089c866d-7a06-4fed-a2ae-837d3cb60fd4",
   "metadata": {},
   "outputs": [],
   "source": [
    "import numpy as np\n",
    "from scipy import stats\n",
    "import matplotlib.pyplot as plt"
   ]
  },
  {
   "cell_type": "markdown",
   "id": "7a42eb9b-41f0-4256-9964-9f082d942e51",
   "metadata": {},
   "source": [
    "### Example 1"
   ]
  },
  {
   "cell_type": "code",
   "execution_count": 11,
   "id": "b30d4b01-2a30-482d-9e5f-7f389a481d05",
   "metadata": {},
   "outputs": [],
   "source": [
    "### Enter hypothesis statement to test in markdown"
   ]
  },
  {
   "cell_type": "code",
   "execution_count": 2,
   "id": "7fe9dc75-ead6-4d62-85c5-ff91ce0a3856",
   "metadata": {},
   "outputs": [
    {
     "name": "stdout",
     "output_type": "stream",
     "text": [
      "test statistic :  0.56\n",
      "p-value :  0.5\n",
      "95% confidence interval :  [0.25 1.  ]\n",
      "We fail to reject null hypothesis at 5% level of significance and conclude that median does not exceed 1.4\n"
     ]
    }
   ],
   "source": [
    "sample = np.array([1.51,1.35,1.69,1.48,1.29,1.27,1.54,1.39,1.45])\n",
    "median = 1.4\n",
    "sample = sample[sample != 1.4]\n",
    "\n",
    "n_pos = np.sum(sample > 1.4)\n",
    "n_neg = np.sum(sample < 1.4)\n",
    "N = n_pos\n",
    "result = stats.binomtest(N,n_pos+n_neg,0.5,'greater')\n",
    "test_stat = np.round(result.statistic,2)\n",
    "p_val = np.round(result.pvalue,2)\n",
    "ci = result.proportion_ci(confidence_level=0.95)\n",
    "\n",
    "print(\"test statistic : \",test_stat)\n",
    "print(\"p-value : \" , p_val)\n",
    "print(\"95% confidence interval : \",np.round(ci,2))\n",
    "\n",
    "if p_val <= 0.05:\n",
    "    print(\"We reject null hypothesis at 5% level of significance and conclude that median is greater than 1.4\")\n",
    "else:\n",
    "    print(\"We fail to reject null hypothesis at 5% level of significance and conclude that median does not exceed 1.4\")"
   ]
  },
  {
   "cell_type": "markdown",
   "id": "81236135-4d08-4d8b-bb49-b974fc2db0a1",
   "metadata": {},
   "source": [
    "#### Example 2"
   ]
  },
  {
   "cell_type": "code",
   "execution_count": 10,
   "id": "240dc75c-469c-4663-a7e0-271491c60f34",
   "metadata": {},
   "outputs": [],
   "source": [
    "### Enter hypothesis statement to test in markdown"
   ]
  },
  {
   "cell_type": "code",
   "execution_count": null,
   "id": "d1743400-fa8a-4a4f-a436-db4171a25735",
   "metadata": {},
   "outputs": [],
   "source": [
    "sample1 = np.array([5.2,5.0,4.8,3.9,6.1,4.2,4.4,5.5,5.8,4.5,4.2,5.3,4.9,4.7,4.9])\n",
    "median1 = 4.5\n",
    "sample1 = sample1[sample1 != 4.5]\n",
    "\n",
    "n_pos = np.sum(sample1 > 4.5)\n",
    "n_neg = np.sum(sample1 < 4.5)\n",
    "N = n_pos\n",
    "result = stats.binomtest(N,n_pos+n_neg,0.5,'greater')\n",
    "test_stat = np.round(result.statistic,2)\n",
    "p_val = np.round(result.pvalue,2)\n",
    "ci = result.proportion_ci(confidence_level=0.95)\n",
    "\n",
    "print(\"test statistic : \",test_stat) # N/ (n_pos + n_neg)\n",
    "print(\"p-value : \" , p_val)\n",
    "print(\"95% confidence interval : \",np.round(ci,2))\n",
    "\n",
    "if p_val <= 0.05:\n",
    "    print(\"We reject null hypothesis at 5% level of significance and conclude that median time to prune an acre of groups is greater than 4.5 hours\")\n",
    "else:\n",
    "    print(\"We fail to reject null hypothesis at 5% level of significance and conclude that median time to prune an acre of groups is equal to 4.5 hours\")"
   ]
  },
  {
   "cell_type": "markdown",
   "id": "da819119-ff17-44c4-8641-05c18f452dfe",
   "metadata": {},
   "source": [
    "#### Paired Sample Test"
   ]
  },
  {
   "cell_type": "markdown",
   "id": "f891293a-a072-467f-b4a0-2634b705f4ac",
   "metadata": {},
   "source": [
    "#### Using scipy.stats.binomtest function"
   ]
  },
  {
   "cell_type": "code",
   "execution_count": null,
   "id": "86d483c3-c586-481c-b874-158338a1975a",
   "metadata": {},
   "outputs": [],
   "source": [
    "### Enter hypothesis statement to test in markdown"
   ]
  },
  {
   "cell_type": "code",
   "execution_count": null,
   "id": "ddfe1e03-be0b-4024-9d83-10a68e8a2316",
   "metadata": {},
   "outputs": [],
   "source": [
    "before = np.array([180,199,175,226,189,205,169,211])\n",
    "after  = np.array([172,191,172,230,178,199,171,201])\n",
    "\n",
    "diff = after-before\n",
    "diff = diff[diff != 0]\n",
    "\n",
    "n_pos = np.sum(diff>0)\n",
    "n_neg = np.sum(diff<0)\n",
    "N = n_pos\n",
    "\n",
    "result = stats.binomtest(N,n_pos+n_neg,0.5,'less')\n",
    "test_stat = np.round(result.statistic,2)\n",
    "p_val = np.round(result.pvalue,2)\n",
    "ci = result.proportion_ci(confidence_level=0.95)\n",
    "\n",
    "print(\"test statistic : \",test_stat) # N/ (n_pos + n_neg)\n",
    "print(\"p-value : \" , p_val)\n",
    "print(\"95% confidence interval : \",np.round(ci,2))\n",
    "\n",
    "if p_val <= 0.05:\n",
    "    print(\"We reject null hypothesis at 5% level of significance and conclude that median difference is not equal to 0\")\n",
    "else:\n",
    "    print(\"We fail to reject null hypothesis at 5% level of significance and conclude that median difference is equal to 0\")"
   ]
  },
  {
   "cell_type": "code",
   "execution_count": 13,
   "id": "91278082-05d1-4512-85ab-6e537ed2a77d",
   "metadata": {},
   "outputs": [],
   "source": [
    "### Lookup the results of wilcoxon signed rank test performed on the above data\n",
    "### the conclusions are different from that of sign test due to violation of assumption that population is symmetric"
   ]
  },
  {
   "cell_type": "markdown",
   "id": "aab066a4-3894-4f2f-bc32-658cfbf90e0b",
   "metadata": {},
   "source": [
    "#### using statsmodels.stats.descriptivestats.sign_test function"
   ]
  },
  {
   "cell_type": "code",
   "execution_count": 9,
   "id": "07b59811-9d22-45ac-8a22-befc881aaf79",
   "metadata": {},
   "outputs": [],
   "source": [
    "### Enter hypothesis statement to test in markdown"
   ]
  },
  {
   "cell_type": "code",
   "execution_count": 8,
   "id": "bfc151c9-484c-4213-b94d-a04dc48d3e44",
   "metadata": {},
   "outputs": [
    {
     "name": "stdout",
     "output_type": "stream",
     "text": [
      "test statistic :  -2.0\n",
      "p-value :  0.2890625\n",
      "We fail to reject null hypothesis at 5% level of significance and conclude that median difference is equal to 0\n"
     ]
    }
   ],
   "source": [
    "# import the library\n",
    "import statsmodels.stats.descriptivestats as sd\n",
    "\n",
    "before = np.array([180,199,175,226,189,205,169,211])\n",
    "after  = np.array([172,191,172,230,178,199,171,201])\n",
    "diff = after-before\n",
    "diff = diff[diff!=0]\n",
    "\n",
    "\n",
    "# perform the sign test for the null hypothesis that the median is 200\n",
    "result = sd.sign_test(diff, 0)\n",
    "\n",
    "# output: (-2.0, 0.2890625)\n",
    "# the first value is the test statistic, the second value is the p-value\n",
    "print(\"test statistic : \",result[0]) # N/ (n_pos + n_neg)\n",
    "print(\"p-value : \" ,result[1])\n",
    "if result[1] <= 0.05:\n",
    "    print(\"We reject null hypothesis at 5% level of significance and conclude that median difference is not equal to 0\")\n",
    "else:\n",
    "    print(\"We fail to reject null hypothesis at 5% level of significance and conclude that median difference is equal to 0\")"
   ]
  }
 ],
 "metadata": {
  "kernelspec": {
   "display_name": "Python 3 (ipykernel)",
   "language": "python",
   "name": "python3"
  },
  "language_info": {
   "codemirror_mode": {
    "name": "ipython",
    "version": 3
   },
   "file_extension": ".py",
   "mimetype": "text/x-python",
   "name": "python",
   "nbconvert_exporter": "python",
   "pygments_lexer": "ipython3",
   "version": "3.11.6"
  }
 },
 "nbformat": 4,
 "nbformat_minor": 5
}
