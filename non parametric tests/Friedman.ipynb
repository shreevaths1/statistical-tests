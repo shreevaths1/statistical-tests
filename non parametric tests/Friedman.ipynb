{
 "cells": [
  {
   "cell_type": "markdown",
   "id": "afcc4d02-24ce-4e01-8f30-f5a71a818fcf",
   "metadata": {},
   "source": [
    "### Friedman Test"
   ]
  },
  {
   "cell_type": "markdown",
   "id": "e00d4614-37fb-4a3b-8716-b244ec6a8e2d",
   "metadata": {},
   "source": [
    "#### Example 1\n",
    "The pulse rate (per minute) of a group of seven students was measured before exercise, immediately after exercise and 5 minutes after exercise. Is there evidence to suggest that the pulse rates on these three occasions are similar? <br>\n",
    "\n",
    "We begin by formulating a null hypothesis $H_{0}$ : The pulse rates are identical on these three occasions."
   ]
  },
  {
   "cell_type": "code",
   "execution_count": 1,
   "id": "99249deb-85f2-4b01-bf02-ecac1327bcd3",
   "metadata": {},
   "outputs": [],
   "source": [
    "from scipy.stats import friedmanchisquare\n",
    "import numpy as np"
   ]
  },
  {
   "cell_type": "code",
   "execution_count": 2,
   "id": "471a471b-5eaa-44ac-b48d-7786ec9036d2",
   "metadata": {},
   "outputs": [
    {
     "name": "stdout",
     "output_type": "stream",
     "text": [
      "test statistic 10.57\n",
      "p-value 0.01\n",
      "Reject null hypothesis at 5% level of significance and we conclude that there is significance difference \n",
      "in treatment effects.\n"
     ]
    }
   ],
   "source": [
    "before = [72, 96, 88, 92, 74, 76, 82]\n",
    "immediately_after = [120, 120, 132, 120, 101, 96, 112]\n",
    "five_min_after = [76, 95, 104, 96, 84, 72, 76]\n",
    "res=friedmanchisquare(before, immediately_after, five_min_after)\n",
    "test_stat = res.statistic\n",
    "p_val = res.pvalue\n",
    "\n",
    "print(\"test statistic\",np.round(test_stat,2))\n",
    "print(\"p-value\",np.round(p_val,2))\n",
    "\n",
    "if p_val <= 0.05:\n",
    "    print(\"Reject null hypothesis at 5% level of significance and we conclude that there is significance difference \\nin treatment effects.\")\n",
    "else:\n",
    "    print(\"We fail to reject null hypothesis at 5% level of significance and we conclude that there is no sufficient evidence to prove there is significance difference in treatment effects.\")"
   ]
  },
  {
   "cell_type": "markdown",
   "id": "a5c1429e-756d-4078-8fe1-63b74ced6f08",
   "metadata": {},
   "source": [
    "#### Example 2\n",
    "Three classes in elementary statistics are taught by three different persons, a regular faculty member, a\n",
    "graduate teaching assistant, and an adjunct from outside the university. At the end of the semester, each\n",
    "student is given a standardized test. Five students are randomly picked from each of these classes, and their\n",
    "scores are given. Test whether there is a difference between the scores for the three persons\n",
    "teaching with α = 0.05.\n",
    "\n",
    "|Faculty|Teaching Assistant|Adjunct|\n",
    "|------|-----|-----|\n",
    "|93|88|86|\n",
    "|61|90|56|\n",
    "|87|76|73|\n",
    "|75|82|90|\n",
    "|92|58|47|\n",
    "\n",
    "Test $H_{0}$ : Median for three person scores are all equal <br>\n",
    "&emsp;&ensp;     $H_{a}$ : the medians are not equal"
   ]
  },
  {
   "cell_type": "code",
   "execution_count": 3,
   "id": "31bdb193-ce3d-4317-8455-6e9677463cc5",
   "metadata": {},
   "outputs": [
    {
     "name": "stdout",
     "output_type": "stream",
     "text": [
      "test statistic 2.8\n",
      "p-value 0.25\n",
      "We fail to reject null hypothesis at 5% level of significance and we conclude that there is no \n",
      "sufficient evidence to prove there is significance difference in treatment effects.\n"
     ]
    }
   ],
   "source": [
    "faculty = [93,61,87,75,92]\n",
    "teaching_assist = [88,90,76,82,58]\n",
    "adjunct = [86,56,73,90,47]\n",
    "res=friedmanchisquare(faculty,teaching_assist,adjunct)\n",
    "test_stat=res.statistic\n",
    "p_val=res.pvalue\n",
    "\n",
    "print(\"test statistic\",np.round(test_stat,2))\n",
    "print(\"p-value\",np.round(p_val,2))\n",
    "\n",
    "if p_val <= 0.05:\n",
    "    print(\"Reject null hypothesis at 5% level of significance and we conclude that there is significance difference in treatment effects.\")\n",
    "else:\n",
    "    print(\"We fail to reject null hypothesis at 5% level of significance and we conclude that there is no \\nsufficient evidence to prove there is significance difference in treatment effects.\")"
   ]
  }
 ],
 "metadata": {
  "kernelspec": {
   "display_name": "Python 3 (ipykernel)",
   "language": "python",
   "name": "python3"
  },
  "language_info": {
   "codemirror_mode": {
    "name": "ipython",
    "version": 3
   },
   "file_extension": ".py",
   "mimetype": "text/x-python",
   "name": "python",
   "nbconvert_exporter": "python",
   "pygments_lexer": "ipython3",
   "version": "3.11.6"
  }
 },
 "nbformat": 4,
 "nbformat_minor": 5
}
