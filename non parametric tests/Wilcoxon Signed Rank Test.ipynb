{
 "cells": [
  {
   "cell_type": "code",
   "execution_count": 1,
   "id": "78511ea4-2056-4924-907a-3143bd88b756",
   "metadata": {},
   "outputs": [],
   "source": [
    "import numpy as np\n",
    "from scipy import stats\n",
    "import matplotlib.pyplot as plt\n",
    "import seaborn as sns"
   ]
  },
  {
   "cell_type": "markdown",
   "id": "e025d841-f0b4-4cce-9b9a-1d6960567135",
   "metadata": {},
   "source": [
    "#### Wilcoxon Signed Rank Test"
   ]
  },
  {
   "cell_type": "markdown",
   "id": "811d4363-0bb1-4420-8ed2-4bea4415af12",
   "metadata": {},
   "source": [
    "### Example 1"
   ]
  },
  {
   "cell_type": "code",
   "execution_count": 2,
   "id": "de192356-5d85-414f-a696-6aba901d6d3e",
   "metadata": {},
   "outputs": [],
   "source": [
    "### Enter hypothesis statement to test in markdown"
   ]
  },
  {
   "cell_type": "code",
   "execution_count": 3,
   "id": "bcd62e89-72e5-4aa3-be7d-553671ea4f59",
   "metadata": {},
   "outputs": [
    {
     "name": "stdout",
     "output_type": "stream",
     "text": [
      "[1.51 1.35 1.69 1.48 1.29 1.27 1.54 1.39 1.45]\n",
      "1.4\n",
      "test statistic :  15.0\n",
      "p-value :  0.43\n",
      "We fail to reject null hypothesis at 5% level of significance and conclude that median is equal to 1.4\n"
     ]
    }
   ],
   "source": [
    "sample = np.array([1.51,1.35,1.69,1.48,1.29,1.27,1.54,1.39,1.45])\n",
    "median = 1.4\n",
    "sample = sample[sample != 1.4]\n",
    "print(sample)\n",
    "print(median)\n",
    "\n",
    "result = stats.wilcoxon(sample-median)\n",
    "test_stat = result.statistic\n",
    "p_val = result.pvalue\n",
    "\n",
    "\n",
    "print(\"test statistic : \",test_stat) # W+\n",
    "print(\"p-value : \" , np.round(p_val,2))\n",
    "\n",
    "if p_val <= 0.05:\n",
    "    print(\"We reject null hypothesis at 5% level of significance and conclude that median is not equal to 1.4\")\n",
    "else:\n",
    "    print(\"We fail to reject null hypothesis at 5% level of significance and conclude that median is equal to 1.4\")"
   ]
  },
  {
   "cell_type": "code",
   "execution_count": 4,
   "id": "c6f692da-9704-448a-bb08-43be062ab24a",
   "metadata": {},
   "outputs": [
    {
     "data": {
      "text/plain": [
       "SkewtestResult(statistic=0.7265475989839756, pvalue=0.46750313863956117)"
      ]
     },
     "execution_count": 4,
     "metadata": {},
     "output_type": "execute_result"
    }
   ],
   "source": [
    "stats.skewtest(sample)"
   ]
  },
  {
   "cell_type": "code",
   "execution_count": 5,
   "id": "c3be27f3-3145-4152-8810-0ee38b784bac",
   "metadata": {},
   "outputs": [
    {
     "data": {
      "text/plain": [
       "0.4200745816272838"
      ]
     },
     "execution_count": 5,
     "metadata": {},
     "output_type": "execute_result"
    }
   ],
   "source": [
    "stats.skew(sample)"
   ]
  },
  {
   "cell_type": "code",
   "execution_count": 6,
   "id": "5db6e0e0-7182-42b8-8a96-8fdd4ef11d4b",
   "metadata": {},
   "outputs": [
    {
     "data": {
      "text/plain": [
       "1.441111111111111"
      ]
     },
     "execution_count": 6,
     "metadata": {},
     "output_type": "execute_result"
    }
   ],
   "source": [
    "np.mean(sample)"
   ]
  },
  {
   "cell_type": "code",
   "execution_count": 7,
   "id": "81cdeedc-9b1f-4bc1-a15c-4a8a29021e9c",
   "metadata": {},
   "outputs": [
    {
     "data": {
      "text/plain": [
       "1.45"
      ]
     },
     "execution_count": 7,
     "metadata": {},
     "output_type": "execute_result"
    }
   ],
   "source": [
    "np.median(sample)"
   ]
  },
  {
   "cell_type": "code",
   "execution_count": 8,
   "id": "cb6d69a2-489e-4a0a-a588-733b4a6559bc",
   "metadata": {},
   "outputs": [
    {
     "data": {
      "image/png": "[encoded data removed]",
      "text/plain": [
       "<Figure size 500x500 with 1 Axes>"
      ]
     },
     "metadata": {},
     "output_type": "display_data"
    }
   ],
   "source": [
    "sns.set_style('whitegrid')\n",
    "sns.displot(sample,kde=True)\n",
    "plt.show()"
   ]
  },
  {
   "cell_type": "markdown",
   "id": "7e81a7a8-1561-4f14-8b39-31618c370d33",
   "metadata": {},
   "source": [
    "#### Example 2"
   ]
  },
  {
   "cell_type": "code",
   "execution_count": 9,
   "id": "9bbd137e-9d25-4341-b4bc-691ae22fb40c",
   "metadata": {},
   "outputs": [],
   "source": [
    "### Enter hypothesis statement to test in markdown"
   ]
  },
  {
   "cell_type": "code",
   "execution_count": 10,
   "id": "d99d2498-693c-4399-83f0-f77ede9ba5a8",
   "metadata": {},
   "outputs": [
    {
     "name": "stdout",
     "output_type": "stream",
     "text": [
      "[57.3 58.1 58.7 66.7 58.6 61.9 59.  64.4 62.6 64.9]\n",
      "65\n",
      "test statistic :  3.0\n",
      "p-value :  0.0\n",
      "We reject null hypothesis at 5% level of significance and conclude that median is not equal to 65\n"
     ]
    }
   ],
   "source": [
    "sample = np.array([57.3,58.1,58.7,66.7,58.6,61.9,59.0,64.4,62.6,64.9])\n",
    "median = 65\n",
    "sample = sample[sample != 65]\n",
    "print(sample)\n",
    "print(median)\n",
    "\n",
    "result = stats.wilcoxon(sample-median,alternative='less')\n",
    "test_stat = result.statistic\n",
    "p_val = result.pvalue\n",
    "\n",
    "\n",
    "print(\"test statistic : \",test_stat) # W+\n",
    "print(\"p-value : \" , np.round(p_val,2))\n",
    "\n",
    "if p_val <= 0.05:\n",
    "    print(\"We reject null hypothesis at 5% level of significance and conclude that median is not equal to 65\")\n",
    "else:\n",
    "    print(\"We fail to reject null hypothesis at 5% level of significance and conclude that median is equal to 65\")"
   ]
  },
  {
   "cell_type": "code",
   "execution_count": 11,
   "id": "ce076eed-5c15-4cdd-a54a-fd0ef8a5af4d",
   "metadata": {},
   "outputs": [
    {
     "data": {
      "text/plain": [
       "SkewtestResult(statistic=0.6486435412054115, pvalue=0.5165688051226054)"
      ]
     },
     "execution_count": 11,
     "metadata": {},
     "output_type": "execute_result"
    }
   ],
   "source": [
    "stats.skewtest(sample)"
   ]
  },
  {
   "cell_type": "code",
   "execution_count": 12,
   "id": "cf321b79-d611-4230-b5ed-0452abb34db7",
   "metadata": {},
   "outputs": [
    {
     "data": {
      "text/plain": [
       "0.364232155912559"
      ]
     },
     "execution_count": 12,
     "metadata": {},
     "output_type": "execute_result"
    }
   ],
   "source": [
    "stats.skew(sample)"
   ]
  },
  {
   "cell_type": "code",
   "execution_count": 13,
   "id": "be0251a1-197e-4e67-9f11-51b4a05399a5",
   "metadata": {},
   "outputs": [
    {
     "data": {
      "text/plain": [
       "61.220000000000006"
      ]
     },
     "execution_count": 13,
     "metadata": {},
     "output_type": "execute_result"
    }
   ],
   "source": [
    "np.mean(sample)"
   ]
  },
  {
   "cell_type": "code",
   "execution_count": 14,
   "id": "bb595afb-8a3e-439d-a9b7-9983fd747008",
   "metadata": {},
   "outputs": [
    {
     "data": {
      "text/plain": [
       "60.45"
      ]
     },
     "execution_count": 14,
     "metadata": {},
     "output_type": "execute_result"
    }
   ],
   "source": [
    "np.median(sample)"
   ]
  },
  {
   "cell_type": "code",
   "execution_count": 15,
   "id": "eb713184-13d6-4e2a-ade9-1c2248c72376",
   "metadata": {},
   "outputs": [
    {
     "data": {
      "image/png": "[encoded data removed]",
      "text/plain": [
       "<Figure size 500x500 with 1 Axes>"
      ]
     },
     "metadata": {},
     "output_type": "display_data"
    }
   ],
   "source": [
    "sns.set_style('whitegrid')\n",
    "sns.displot(sample,kde=True)\n",
    "plt.show()"
   ]
  },
  {
   "cell_type": "markdown",
   "id": "dee13b61-a64f-4105-9acd-2aa3c1846419",
   "metadata": {},
   "source": [
    "#### Paired Sample Test"
   ]
  },
  {
   "cell_type": "markdown",
   "id": "8a15cf35-ebdf-44ec-9184-c13f7141c1b6",
   "metadata": {},
   "source": [
    "Using Wilcoxon Signed Ranked Test"
   ]
  },
  {
   "cell_type": "code",
   "execution_count": 16,
   "id": "f0a9f11b-e579-4fb7-a407-012814f5598c",
   "metadata": {},
   "outputs": [],
   "source": [
    "### Enter hypothesis statement to test in markdown"
   ]
  },
  {
   "cell_type": "code",
   "execution_count": 17,
   "id": "1c65c738-10a5-49c9-a511-5245b79a181a",
   "metadata": {},
   "outputs": [
    {
     "name": "stdout",
     "output_type": "stream",
     "text": [
      "test statistic :  4.0\n",
      "p-value :  0.0273\n",
      "We reject null hypothesis at 5% level of significance and conclude that median difference is not equal to 0\n"
     ]
    }
   ],
   "source": [
    "before = np.array([180,199,175,226,189,205,169,211])\n",
    "after  = np.array([172,191,172,230,178,199,171,201])\n",
    "diff = after-before\n",
    "diff = diff[diff!=0]\n",
    "\n",
    "result = stats.wilcoxon(diff,alternative='less')\n",
    "test_stat = result.statistic\n",
    "p_val = result.pvalue\n",
    "\n",
    "\n",
    "print(\"test statistic : \",test_stat) # W+\n",
    "print(\"p-value : \" , np.round(p_val,4))\n",
    "\n",
    "if p_val <= 0.05:\n",
    "    print(\"We reject null hypothesis at 5% level of significance and conclude that median difference is not equal to 0\")\n",
    "else:\n",
    "    print(\"We fail to reject null hypothesis at 5% level of significance and conclude that median difference is equal to 0\")"
   ]
  },
  {
   "cell_type": "markdown",
   "id": "bb672ec3-45e7-46f3-8a97-3619de095874",
   "metadata": {},
   "source": [
    "Unfortunately the conclusion is different than sign test. This is because we can't use wilcoxon signed rank test here sure asymmetric sample"
   ]
  },
  {
   "cell_type": "code",
   "execution_count": 18,
   "id": "8e4287ab-841e-4f73-9ce7-a977474c9121",
   "metadata": {},
   "outputs": [
    {
     "data": {
      "text/plain": [
       "SkewtestResult(statistic=1.0356086113797676, pvalue=0.3003847729000403)"
      ]
     },
     "execution_count": 18,
     "metadata": {},
     "output_type": "execute_result"
    }
   ],
   "source": [
    "stats.skewtest(diff)"
   ]
  },
  {
   "cell_type": "code",
   "execution_count": 19,
   "id": "6729da84-99a5-42d3-881a-e814705a51dd",
   "metadata": {},
   "outputs": [
    {
     "data": {
      "text/plain": [
       "0.617988559352555"
      ]
     },
     "execution_count": 19,
     "metadata": {},
     "output_type": "execute_result"
    }
   ],
   "source": [
    "stats.skew(diff)"
   ]
  },
  {
   "cell_type": "code",
   "execution_count": 20,
   "id": "1fabc547-08eb-4b62-8186-2ae4d25ece81",
   "metadata": {},
   "outputs": [
    {
     "data": {
      "text/plain": [
       "-5.0"
      ]
     },
     "execution_count": 20,
     "metadata": {},
     "output_type": "execute_result"
    }
   ],
   "source": [
    "np.mean(diff)"
   ]
  },
  {
   "cell_type": "code",
   "execution_count": 21,
   "id": "db310e0c-1828-45da-86a2-e6bbc45e15a5",
   "metadata": {},
   "outputs": [
    {
     "data": {
      "text/plain": [
       "-7.0"
      ]
     },
     "execution_count": 21,
     "metadata": {},
     "output_type": "execute_result"
    }
   ],
   "source": [
    "np.median(diff)"
   ]
  },
  {
   "cell_type": "code",
   "execution_count": 22,
   "id": "8a31fca8-874c-4ed8-bfc9-027b96410220",
   "metadata": {},
   "outputs": [
    {
     "data": {
      "image/png": "[encoded data removed]",
      "text/plain": [
       "<Figure size 500x500 with 1 Axes>"
      ]
     },
     "metadata": {},
     "output_type": "display_data"
    }
   ],
   "source": [
    "sns.set_style('whitegrid')\n",
    "sns.displot(diff,kde=True)\n",
    "plt.show()"
   ]
  }
 ],
 "metadata": {
  "kernelspec": {
   "display_name": "Python 3 (ipykernel)",
   "language": "python",
   "name": "python3"
  },
  "language_info": {
   "codemirror_mode": {
    "name": "ipython",
    "version": 3
   },
   "file_extension": ".py",
   "mimetype": "text/x-python",
   "name": "python",
   "nbconvert_exporter": "python",
   "pygments_lexer": "ipython3",
   "version": "3.11.6"
  }
 },
 "nbformat": 4,
 "nbformat_minor": 5
}
