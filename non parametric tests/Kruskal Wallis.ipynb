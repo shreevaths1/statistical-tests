{
 "cells": [
  {
   "cell_type": "markdown",
   "id": "24a2f036-9921-414c-8a0b-bc5566c85519",
   "metadata": {},
   "source": [
    "### Kruskal Wallis Test"
   ]
  },
  {
   "cell_type": "code",
   "execution_count": 1,
   "id": "86087620-b015-49a8-9135-700de320f9ad",
   "metadata": {},
   "outputs": [],
   "source": [
    "from scipy.stats import kruskal\n",
    "import numpy as np"
   ]
  },
  {
   "cell_type": "markdown",
   "id": "2dc33ecc-73b4-41e6-8625-f32086ce40b5",
   "metadata": {},
   "source": [
    "#### Example 1"
   ]
  },
  {
   "cell_type": "code",
   "execution_count": 2,
   "id": "13eba778-b908-45d5-9ee2-cbe0d500d8de",
   "metadata": {},
   "outputs": [
    {
     "name": "stdout",
     "output_type": "stream",
     "text": [
      "test statistic :  3.49\n",
      "p-value :  0.17\n",
      "We fail to reject null hypothesis at 5% level of significance and conclude we d not suffiecient evidence \n",
      "to conclude that population medians are signficantly different.\n"
     ]
    }
   ],
   "source": [
    "data_group1=[7,9,12,15,21]\n",
    "data_group2=[5,8,14,13,25]\n",
    "data_group3=[6,8,8,9,5]\n",
    "\n",
    "result = kruskal(data_group1,data_group2,data_group3)\n",
    "\n",
    "test_stat = result.statistic\n",
    "p_val = result.pvalue\n",
    "\n",
    "print(\"test statistic : \",np.round(test_stat,2))\n",
    "print(\"p-value : \",np.round(p_val,2))\n",
    "\n",
    "if p_val <= 0.05:\n",
    "    print(\"We reject null hypothesis at 5% level of significance and conclude the population medians are not equal\")\n",
    "else:\n",
    "    print(\"We fail to reject null hypothesis at 5% level of significance and conclude we d not suffiecient evidence \\nto conclude that population medians are signficantly different.\")"
   ]
  },
  {
   "cell_type": "markdown",
   "id": "930e917e-ade7-430d-9437-e152168a03fd",
   "metadata": {},
   "source": [
    "#### Example 2"
   ]
  },
  {
   "cell_type": "markdown",
   "id": "5de7bfe9-499e-4880-8766-d5b3a2a62ba7",
   "metadata": {},
   "source": [
    "In an effort to investigate the premium charged by insurance companies for auto insurance, an agency\n",
    "randomly selects a few drivers who are insured with three different companies. Assume that these persons have similar r autos, driving records, and level of coverage.  Using the 5% level of significance, test the null hypothesis that\n",
    "the median auto insurance premium paid per 6 months by all drivers insured with each of these companies\n",
    "is the same.\n",
    "\n",
    "|Company I|Company II|Company III|\n",
    "|---|---|---|\n",
    "|396|348|378|\n",
    "|438|360|330|\n",
    "|336|522|294|\n",
    "|318||474|\n",
    "|||432|\n",
    "\n",
    "Test $H_{0} : M_{1} = M_{2} = M_{3} = 0 $ vs <br>\n",
    "&emsp;&ensp;     $H_{a}$ : Not all $M_{i}'s$ equal 0"
   ]
  },
  {
   "cell_type": "code",
   "execution_count": 3,
   "id": "11fbe927-d325-4ad6-96ef-e720d070295f",
   "metadata": {},
   "outputs": [
    {
     "name": "stdout",
     "output_type": "stream",
     "text": [
      "test statistic :  0.43\n",
      "p-value :  0.81\n",
      "We fail to reject null hypothesis at 5% level of significance and conclude we d not suffiecient evidence \n",
      "to conclude that population medians are signficantly different.\n"
     ]
    }
   ],
   "source": [
    "comp_1 = np.array([396,438,336,318])\n",
    "comp_2 = np.array([348,360,522])\n",
    "comp_3 = np.array([378,330,294,474,432])\n",
    "\n",
    "result = kruskal(comp_1,comp_2,comp_3)\n",
    "\n",
    "test_stat = result.statistic\n",
    "p_val = result.pvalue\n",
    "\n",
    "print(\"test statistic : \",np.round(test_stat,2))\n",
    "print(\"p-value : \",np.round(p_val,2))\n",
    "\n",
    "if p_val <= 0.05:\n",
    "    print(\"We reject null hypothesis at 5% level of significance and conclude the population medians are not equal\")\n",
    "else:\n",
    "    print(\"We fail to reject null hypothesis at 5% level of significance and conclude we d not suffiecient evidence \\nto conclude that population medians are signficantly different.\")"
   ]
  }
 ],
 "metadata": {
  "kernelspec": {
   "display_name": "Python 3 (ipykernel)",
   "language": "python",
   "name": "python3"
  },
  "language_info": {
   "codemirror_mode": {
    "name": "ipython",
    "version": 3
   },
   "file_extension": ".py",
   "mimetype": "text/x-python",
   "name": "python",
   "nbconvert_exporter": "python",
   "pygments_lexer": "ipython3",
   "version": "3.11.6"
  }
 },
 "nbformat": 4,
 "nbformat_minor": 5
}
